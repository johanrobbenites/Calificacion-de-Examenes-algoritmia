{
  "nbformat": 4,
  "nbformat_minor": 0,
  "metadata": {
    "colab": {
      "name": "Aliaga_Jael_es_p3",
      "provenance": []
    },
    "kernelspec": {
      "name": "python3",
      "display_name": "Python 3"
    },
    "language_info": {
      "name": "python"
    }
  },
  "cells": [
    {
      "cell_type": "code",
      "execution_count": 15,
      "metadata": {
        "colab": {
          "base_uri": "https://localhost:8080/"
        },
        "id": "KamTrSC_BQMq",
        "outputId": "373b93dd-1592-4eee-a33b-e6117ff192e0"
      },
      "outputs": [
        {
          "output_type": "stream",
          "name": "stdout",
          "text": [
            "Ingrese la oracion:\n",
            "La belleza esta en tu interior no en tu talla inferior\n",
            "Y la palabra ingresada es: en\n",
            "Entonces es resultado es: 2\n"
          ]
        }
      ],
      "source": [
        "oracion = input(\"Ingrese la oracion:\\n\")\n",
        "palabra = input(\"Y la palabra ingresada es: \")\n",
        "def encontrar(oracion, palabra):\n",
        "  nuevo = oracion.lower()\n",
        "  p = palabra.lower()\n",
        "  lista = nuevo.split(\" \")\n",
        "  veces = 0\n",
        "  for i in lista:\n",
        "    if i == p:\n",
        "      veces += 1\n",
        "  return veces\n",
        "print(f\"Entonces es resultado es: {encontrar(oracion, palabra)}\")\n"
      ]
    }
  ]
}