{
  "nbformat": 4,
  "nbformat_minor": 0,
  "metadata": {
    "colab": {
      "name": "Aliaga-Jael-pc3-p1",
      "provenance": []
    },
    "kernelspec": {
      "name": "python3",
      "display_name": "Python 3"
    },
    "language_info": {
      "name": "python"
    }
  },
  "cells": [
    {
      "cell_type": "code",
      "execution_count": null,
      "metadata": {
        "colab": {
          "base_uri": "https://localhost:8080/"
        },
        "id": "6N5A_8yyW5NP",
        "outputId": "0869900c-f8fe-45b7-f7b7-687faad1fb59"
      },
      "outputs": [
        {
          "output_type": "stream",
          "name": "stdout",
          "text": [
            "Ingrese el numero de postulantes: 2\n",
            "Codigo: 556464\n",
            "Nombre: tadeo\n",
            "Puntaje: 5\n",
            "Codigo: 846588\n",
            "Nombre: ha\n",
            "Puntaje: 6\n",
            "[['84658', 'ha', 6.0], ['84658', 'ha', 6.0]]\n"
          ]
        }
      ],
      "source": [
        "n =  int(input(\"Ingrese el numero de postulantes: \"))\n",
        "lista = [[0, 0, 0]]*n\n",
        "for i in range(n):\n",
        "  codigo = input(\"Codigo: \")\n",
        "  nombre = input(\"Nombre: \")\n",
        "  puntaje= float(input(\"Puntaje: \"))\n",
        "  lista[i][0] = codigo[:5]\n",
        "  lista[i][1] = nombre[:50]\n",
        "  lista[i][2] = puntaje\n",
        "for a in range(n):\n",
        "  for b in range(a + 1, n):\n",
        "    if lista[i][2] > lista[b][2]:\n",
        "      t = lista[i][2]\n",
        "      lista[i][2] = lista[b][2]\n",
        "      lista[b][2] = t\n",
        "print(lista)"
      ]
    }
  ]
}