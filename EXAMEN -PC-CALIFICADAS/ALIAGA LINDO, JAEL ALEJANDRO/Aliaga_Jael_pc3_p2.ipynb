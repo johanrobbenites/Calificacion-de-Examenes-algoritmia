{
  "nbformat": 4,
  "nbformat_minor": 0,
  "metadata": {
    "colab": {
      "name": "Aliaga-Jael-pc3-p2",
      "provenance": []
    },
    "kernelspec": {
      "name": "python3",
      "display_name": "Python 3"
    },
    "language_info": {
      "name": "python"
    }
  },
  "cells": [
    {
      "cell_type": "code",
      "execution_count": null,
      "metadata": {
        "id": "svKoXtBEdtTC",
        "colab": {
          "base_uri": "https://localhost:8080/"
        },
        "outputId": "b76c96ff-32c0-4d1f-e17f-fa6b54922f56"
      },
      "outputs": [
        {
          "output_type": "stream",
          "name": "stdout",
          "text": [
            "Ingrese el numero de cadenas: 4\n",
            "Hola María ¿Cómo estás?\n",
            "Juan Mora\n",
            "Python o Ruby? \n",
            "Aprobé SI205\n",
            "a 6 ******\n",
            "b 2 **\n",
            "c 1 *\n",
            "e 1 *\n",
            "h 2 **\n",
            "i 1 *\n",
            "j 1 *\n",
            "l 1 *\n",
            "m 3 ***\n",
            "n 2 **\n",
            "o 6 ******\n",
            "p 2 **\n",
            "r 4 ****\n",
            "s 3 ***\n",
            "t 2 **\n",
            "u 2 **\n",
            "y 2 **\n"
          ]
        }
      ],
      "source": [
        "import string\n",
        "n = int(input(\"Ingrese el numero de cadenas: \"))\n",
        "lista = []\n",
        "i = 0\n",
        "while i < n:\n",
        "  cadena = input(\"\")[:50]\n",
        "  lista.append(cadena.lower())\n",
        "  i += 1\n",
        "alfabeto = string.ascii_lowercase\n",
        "for i in alfabeto:\n",
        "  frecuencia = 0\n",
        "  for j in lista:\n",
        "    frecuencia += j.count(i)\n",
        "  if frecuencia > 0:\n",
        "    print(f\"{i} {frecuencia} {('*') * frecuencia}\")"
      ]
    }
  ]
}