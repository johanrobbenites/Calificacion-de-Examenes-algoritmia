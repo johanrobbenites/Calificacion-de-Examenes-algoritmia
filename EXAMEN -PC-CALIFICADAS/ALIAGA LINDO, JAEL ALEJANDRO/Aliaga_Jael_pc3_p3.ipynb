{
  "nbformat": 4,
  "nbformat_minor": 0,
  "metadata": {
    "colab": {
      "name": "Aliaga-Jael-pc3-p3",
      "provenance": []
    },
    "kernelspec": {
      "name": "python3",
      "display_name": "Python 3"
    },
    "language_info": {
      "name": "python"
    }
  },
  "cells": [
    {
      "cell_type": "code",
      "execution_count": null,
      "metadata": {
        "colab": {
          "base_uri": "https://localhost:8080/"
        },
        "id": "RsGirJromNS2",
        "outputId": "108d2d1c-66cf-418c-a126-4d9928e5bd4f"
      },
      "outputs": [
        {
          "output_type": "stream",
          "name": "stdout",
          "text": [
            "{-41;-2;0;1;123}\n",
            "{-3;-2;1;2}\n",
            "UNION: [-41, -2, 0, 1, 123, -3, 2]\n",
            "INTERSECCIÓN: [-2, 1]\n"
          ]
        }
      ],
      "source": [
        "A = input(\"\")\n",
        "B = input(\"\")\n",
        "def lista(conjunto):\n",
        "  a = (conjunto.strip(\"{}\")).split(\";\")\n",
        "  for i in range (len(a)):\n",
        "    a[i] = int(a[i])\n",
        "  return a\n",
        "union = lista(A) + lista(B)\n",
        "U, I = [], []\n",
        "for i in union:\n",
        "  if i not in U:\n",
        "    U.append(i)\n",
        "for i in lista(A):\n",
        "  for j in lista(B):\n",
        "    if i == j and i not in I:\n",
        "      I.append(i)\n",
        "print(f\"UNION: {U}\")\n",
        "print(f\"INTERSECCIÓN: {I}\")"
      ]
    }
  ]
}