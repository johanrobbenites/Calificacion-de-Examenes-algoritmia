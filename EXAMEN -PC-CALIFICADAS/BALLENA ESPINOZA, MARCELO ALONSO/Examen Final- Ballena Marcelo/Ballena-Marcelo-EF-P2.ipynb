{
  "nbformat": 4,
  "nbformat_minor": 0,
  "metadata": {
    "colab": {
      "name": "Untitled23.ipynb",
      "provenance": []
    },
    "kernelspec": {
      "name": "python3",
      "display_name": "Python 3"
    },
    "language_info": {
      "name": "python"
    }
  },
  "cells": [
    {
      "cell_type": "code",
      "execution_count": 31,
      "metadata": {
        "colab": {
          "base_uri": "https://localhost:8080/"
        },
        "id": "ZHghwC_se478",
        "outputId": "fa77dc3f-a99f-4262-8913-3e3915c8ff0c"
      },
      "outputs": [
        {
          "output_type": "stream",
          "name": "stdout",
          "text": [
            "MONTO   NOMBRE       Pto BONO  PORC\n",
            "48749.4 Juan Millones 1 4874.94 10\n",
            "48749.4 Daniel Rojas 1 4874.94 10\n",
            "42067.0 Julia Rios 3 3365.36 8\n",
            "35267.0 Mariela Fajardo\n",
            " 4 2468.69 7\n",
            "25064.5 Javier Lujan 5 1503.87 6\n"
          ]
        }
      ],
      "source": [
        "archivo = open(\"Archivo.txt\",\"r\")\n",
        "lista = []\n",
        "puesto = []\n",
        "for i in archivo:\n",
        "  lista_1 = []\n",
        "  x = i.split(\" \")\n",
        "  venta=float(x[0])\n",
        "  nombre = x[1] +\" \"+ x[2]\n",
        "  lista_1.append(venta)\n",
        "  lista_1.append(nombre)\n",
        "  lista.append(lista_1)\n",
        "\n",
        "for i in range(len(lista)-1):\n",
        "  for j in range(len(lista)-1):\n",
        "    if lista[j][0]<lista[j+1][0]:\n",
        "      aux = lista[j]\n",
        "      lista[j]=lista[j+1]\n",
        "      lista[j+1]=aux\n",
        "cont=1\n",
        "for i in range(len(lista)-1):\n",
        "  monto = lista[i][0]\n",
        "  if lista[i][0] == lista[i+1][0]:\n",
        "    puesto.append(cont)\n",
        "    puesto.append(cont)\n",
        "    cont=cont+1\n",
        "  else:\n",
        "    puesto.append(cont)\n",
        "  cont = cont+1 \n",
        "cont=0\n",
        "print(\"MONTO   NOMBRE       Pto BONO  PORC\")\n",
        "for i in puesto:\n",
        "  if i<=5:\n",
        "    bono = (lista[cont][0])*(11-i)/100\n",
        "    print(f\"{lista[cont][0]} {lista[cont][1]} {i} {bono} {11-i}\")\n",
        "    cont=cont+1\n",
        "\n",
        "   \n",
        "archivo.close()"
      ]
    },
    {
      "cell_type": "code",
      "source": [
        ""
      ],
      "metadata": {
        "id": "vPgqc1Bux4LW"
      },
      "execution_count": 1,
      "outputs": []
    }
  ]
}