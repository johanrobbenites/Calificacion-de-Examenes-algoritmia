{
  "nbformat": 4,
  "nbformat_minor": 0,
  "metadata": {
    "colab": {
      "name": "Untitled23.ipynb",
      "provenance": []
    },
    "kernelspec": {
      "name": "python3",
      "display_name": "Python 3"
    },
    "language_info": {
      "name": "python"
    }
  },
  "cells": [
    {
      "cell_type": "code",
      "execution_count": 41,
      "metadata": {
        "colab": {
          "base_uri": "https://localhost:8080/"
        },
        "id": "ZHghwC_se478",
        "outputId": "a7c0a8bc-15dd-4785-ecde-a6f587581fd7"
      },
      "outputs": [
        {
          "output_type": "stream",
          "name": "stdout",
          "text": [
            "Ingrese una oracion:anita lava la tina\n",
            "\n",
            "Oracion Ingresada:\n",
            "anita lava la tina\n",
            "\n",
            "Sin espacion en blanco y en minusculas seria\n",
            "anitalavalatina\n",
            "\n",
            "Al invertirla da\n",
            "anitalavalatina\n",
            "\n",
            "La oracion ingresada si es palindroma\n"
          ]
        }
      ],
      "source": [
        "oracion = input(\"Ingrese una oracion:\")\n",
        "x=oracion.split(\" \")\n",
        "oracion_1=\"\"\n",
        "for i in x:\n",
        "  oracion_1 = oracion_1+i\n",
        "oracion_2 = \"\"\n",
        "for i in oracion_1:\n",
        "  oracion_2 = oracion_2+i.lower()\n",
        "a = len(oracion_2)-1\n",
        "oracion_3=\"\"\n",
        "cont=0\n",
        "for i in oracion_2:\n",
        "  oracion_3=oracion_3+oracion_2[a-cont]\n",
        "  cont=cont+1\n",
        "resultado = \"La oracion ingresada no es palindroma\"\n",
        "if oracion_2==oracion_3:\n",
        "  resultado= \"La oracion ingresada si es palindroma\"\n",
        "print(f\"\"\"\n",
        "Oracion Ingresada:\n",
        "{oracion}\n",
        "\n",
        "Sin espacion en blanco y en minusculas seria:\n",
        "{oracion_2}\n",
        "\n",
        "Al invertirla da:\n",
        "{oracion_3}\n",
        "\n",
        "{resultado}\"\"\")\n"
      ]
    },
    {
      "cell_type": "code",
      "source": [
        ""
      ],
      "metadata": {
        "id": "vPgqc1Bux4LW"
      },
      "execution_count": 1,
      "outputs": []
    }
  ]
}