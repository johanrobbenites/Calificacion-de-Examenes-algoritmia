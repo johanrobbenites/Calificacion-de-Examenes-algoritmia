{
  "nbformat": 4,
  "nbformat_minor": 0,
  "metadata": {
    "colab": {
      "name": "Untitled19.ipynb",
      "provenance": []
    },
    "kernelspec": {
      "name": "python3",
      "display_name": "Python 3"
    },
    "language_info": {
      "name": "python"
    }
  },
  "cells": [
    {
      "cell_type": "code",
      "execution_count": 25,
      "metadata": {
        "colab": {
          "base_uri": "https://localhost:8080/"
        },
        "id": "dTKZW9exgjWQ",
        "outputId": "218bdb96-3dca-4de6-d999-847c2b3a3880"
      },
      "outputs": [
        {
          "output_type": "stream",
          "name": "stdout",
          "text": [
            "Ingrese la cantidad de cadenas: 2\n",
            "Ingrese la cadena: asdefw\n",
            "Ingrese la cadena: ASDAR\n",
            "a 3 ***\n",
            "d 2 **\n",
            "e 1 *\n",
            "f 1 *\n",
            "r 1 *\n",
            "s 2 **\n",
            "w 1 *\n"
          ]
        }
      ],
      "source": [
        "n = int(input(\"Ingrese la cantidad de cadenas: \"))\n",
        "diccionario = dict()\n",
        "diccionario= {\"a\":0,\"b\":0,\"c\":0,\"d\":0,\"e\":0,\"f\":0,\"g\":0,\"h\":0,\"i\":0,\"j\":0,\"k\":0,\"l\":0,\"m\":0,\"n\":0,\"o\":0,\"p\":0,\"q\":0,\"r\":0,\"s\":0,\"t\":0,\"u\":0,\"v\":0,\"w\":0,\"x\":0,\"y\":0,\"z\":0,}\n",
        "for i in range(n):\n",
        "  cadena = input(\"Ingrese la cadena: \")\n",
        "  while True:\n",
        "    if len(cadena)<=50:\n",
        "      break\n",
        "    else:\n",
        "      cadena = input(\"Ingrese una cadena mas corta: \")\n",
        "  for car in cadena:\n",
        "    if car.lower() in diccionario:\n",
        "      diccionario[car.lower()] = diccionario[car.lower()]+1\n",
        "for i in diccionario:\n",
        "  if diccionario[i]>=1:\n",
        "    sub = \"\"\n",
        "    for j in range(diccionario[i]):\n",
        "      sub = sub+\"*\"\n",
        "    print(f\"{i} {diccionario[i]} {sub}\")\n",
        "\n"
      ]
    }
  ]
}