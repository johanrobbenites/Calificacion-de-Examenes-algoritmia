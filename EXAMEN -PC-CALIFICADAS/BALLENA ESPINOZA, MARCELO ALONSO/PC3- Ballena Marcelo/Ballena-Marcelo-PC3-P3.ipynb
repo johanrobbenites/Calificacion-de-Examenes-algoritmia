{
  "nbformat": 4,
  "nbformat_minor": 0,
  "metadata": {
    "colab": {
      "name": "Untitled19.ipynb",
      "provenance": []
    },
    "kernelspec": {
      "name": "python3",
      "display_name": "Python 3"
    },
    "language_info": {
      "name": "python"
    }
  },
  "cells": [
    {
      "cell_type": "code",
      "execution_count": 28,
      "metadata": {
        "colab": {
          "base_uri": "https://localhost:8080/"
        },
        "id": "dTKZW9exgjWQ",
        "outputId": "d0cce155-d66b-446d-8038-f3f171713aff"
      },
      "outputs": [
        {
          "output_type": "stream",
          "name": "stdout",
          "text": [
            "[1, 12, 36, 62, 75, 83, 85, 87, 97]\n",
            "[1, 62, 85, 97]\n"
          ]
        }
      ],
      "source": [
        "def uni_inter(A,B):\n",
        "  union = []\n",
        "  inter = []\n",
        "  for i in A:\n",
        "    for j in B:\n",
        "      if i == j:\n",
        "        inter.append(i)\n",
        "  for i in A:\n",
        "    union.append(i)\n",
        "  for i in B:\n",
        "    a = True\n",
        "    for j in union:\n",
        "      if i == j:\n",
        "        a = False \n",
        "    if a == True:\n",
        "      union.append(i)\n",
        "  for i in range(len(union)-1):\n",
        "    for j in range(len(union)-1):\n",
        "      if union[j]>union[j+1]:\n",
        "        aux = union[j]\n",
        "        union[j]=union[j+1]\n",
        "        union[j+1]= aux\n",
        "  for i in range(len(inter)-1):\n",
        "    for j in range(len(inter)-1):\n",
        "      if inter[j]>inter[j+1]:\n",
        "        aux = inter[j]\n",
        "        inter[j]=inter[j+1]\n",
        "        inter[j+1]= aux  \n",
        "  print(f\"Union = {union}\")\n",
        "  print(f\"Interseccion = {inter}\")\n",
        "A = [85,1,62,75,97,36,83,12]\n",
        "B = [97,62,1,87,85]\n",
        "uni_inter(A,B)\n",
        "\n",
        "\n"
      ]
    }
  ]
}