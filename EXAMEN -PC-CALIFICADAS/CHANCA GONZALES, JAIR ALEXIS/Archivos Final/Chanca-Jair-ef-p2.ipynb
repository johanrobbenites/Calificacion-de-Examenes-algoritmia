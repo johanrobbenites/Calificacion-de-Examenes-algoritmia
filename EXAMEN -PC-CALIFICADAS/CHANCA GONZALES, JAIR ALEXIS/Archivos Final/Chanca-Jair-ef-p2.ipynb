{
  "nbformat": 4,
  "nbformat_minor": 0,
  "metadata": {
    "colab": {
      "name": "Untitled4.ipynb",
      "provenance": []
    },
    "kernelspec": {
      "name": "python3",
      "display_name": "Python 3"
    },
    "language_info": {
      "name": "python"
    }
  },
  "cells": [
    {
      "cell_type": "code",
      "execution_count": 29,
      "metadata": {
        "colab": {
          "base_uri": "https://localhost:8080/"
        },
        "id": "QWifLWZXmow6",
        "outputId": "4d017713-0156-4b40-b4d5-2f238dd431e4"
      },
      "outputs": [
        {
          "output_type": "stream",
          "name": "stdout",
          "text": [
            "Monto   Nombre       Pto Bono    Porc\n",
            "48749.4 Mario Torres 1 4874.94 10\n",
            "48749.4 Mario Torres 2 4387.446 9\n",
            "42067.0 Julia Rios 3 3365.36 8\n",
            "38942.5 Felipe Salas 4 2725.975 7\n"
          ]
        }
      ],
      "source": [
        "f=open(\"ventas.txt\",\"r\")\n",
        "v=f.readlines()\n",
        "f.close()\n",
        "dic={}\n",
        "\n",
        "def bubbleSort(array):\n",
        "    for i in range(len(array)):\n",
        "        for j in range(0, len(array) - i - 1):\n",
        "            if array[j] < array[j + 1]:\n",
        "                temp = array[j]\n",
        "                array[j] = array[j+1]\n",
        "                array[j+1] = temp\n",
        "\n",
        "for i in range(0,len(v)):\n",
        "    n=len(v[i])\n",
        "    if v[i][(n-1):(n+1)]==\"\\n\":\n",
        "        v[i]=v[i][0:(n-1)]\n",
        "    price=float(v[i][0:8])\n",
        "    name=v[i][9:]\n",
        "    dic[name]=price\n",
        "\n",
        "prices=list(dic.values())\n",
        "names=list(dic.keys())\n",
        "bubbleSort(prices)\n",
        "\n",
        "print(\"Monto   Nombre       Pto Bono    Porc\")\n",
        "pto=1\n",
        "while pto<5:\n",
        "    monto=prices[0]\n",
        "    prices.remove(monto)\n",
        "    for i in range(len(names)):\n",
        "        if dic[names[i]]==monto:\n",
        "            nombre=names[i]\n",
        "            break\n",
        "    porc=11-pto\n",
        "    bono=monto*porc/100\n",
        "    print(monto,nombre,pto,bono,porc)\n",
        "    pto+=1"
      ]
    }
  ]
}