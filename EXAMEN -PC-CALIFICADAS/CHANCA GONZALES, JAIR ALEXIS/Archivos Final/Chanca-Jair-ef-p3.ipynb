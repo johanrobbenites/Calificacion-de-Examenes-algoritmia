{
  "nbformat": 4,
  "nbformat_minor": 0,
  "metadata": {
    "colab": {
      "name": "Untitled5.ipynb",
      "provenance": []
    },
    "kernelspec": {
      "name": "python3",
      "display_name": "Python 3"
    },
    "language_info": {
      "name": "python"
    }
  },
  "cells": [
    {
      "cell_type": "code",
      "execution_count": 19,
      "metadata": {
        "colab": {
          "base_uri": "https://localhost:8080/",
          "height": 104
        },
        "id": "1mvEkq3y6D-g",
        "outputId": "4a2ff164-6639-4a43-f93b-bafbd35fb42a"
      },
      "outputs": [
        {
          "output_type": "stream",
          "name": "stdout",
          "text": [
            "Yo hago yoga hoy\n",
            "Yohagoyogahoy\n",
            "Yohagoyogahoy\n",
            "y\n"
          ]
        },
        {
          "output_type": "execute_result",
          "data": {
            "text/plain": [
              "'yohagoyogahoY'"
            ],
            "application/vnd.google.colaboratory.intrinsic+json": {
              "type": "string"
            }
          },
          "metadata": {},
          "execution_count": 19
        }
      ],
      "source": [
        "def invertir_recursivo(palabra):\n",
        "    if len(palabra)==1:\n",
        "        return palabra\n",
        "    else:\n",
        "        n=len(palabra)\n",
        "        return palabra[n-1]+invertir_recursivo(palabra[1:(n-1)])+palabra[0]\n",
        "\n",
        "oracion=\"Yo hago yoga hoy\"\n",
        "print(oracion)\n",
        "orac=list(oracion.split())\n",
        "oracion=\"\".join(orac)\n",
        "oracion.lower()\n",
        "print(oracion)\n",
        "print(oracion[0:len(oracion)])\n",
        "print(oracion[len(oracion)-1])\n",
        "\n",
        "invertir_recursivo(oracion)\n"
      ]
    }
  ]
}