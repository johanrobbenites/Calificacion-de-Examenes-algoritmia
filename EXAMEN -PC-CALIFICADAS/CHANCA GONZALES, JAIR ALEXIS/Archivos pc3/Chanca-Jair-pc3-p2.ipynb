{
  "nbformat": 4,
  "nbformat_minor": 0,
  "metadata": {
    "colab": {
      "name": "Untitled2.ipynb",
      "provenance": []
    },
    "kernelspec": {
      "name": "python3",
      "display_name": "Python 3"
    },
    "language_info": {
      "name": "python"
    }
  },
  "cells": [
    {
      "cell_type": "code",
      "execution_count": null,
      "metadata": {
        "id": "99J8qQ8ndpEC"
      },
      "outputs": [],
      "source": [
        "import string\n",
        "n=int(input(\"Ingrese valor de 'n': \"))\n",
        "total = ''\n",
        "print('Ingrese {} cadena/s de caracteres'.format(n))\n",
        "for i in range(n):\n",
        "    x = str(input())\n",
        "    total = total + x\n",
        "abecedario = string.ascii_lowercase\n",
        "\n",
        "for letra in abecedario:\n",
        "    r = int(total.count(letra))\n",
        "    if r != 0:\n",
        "        print('{}  {} '.format(letra,r)+'*'*r)\n",
        "\n",
        "\n"
      ]
    }
  ]
}