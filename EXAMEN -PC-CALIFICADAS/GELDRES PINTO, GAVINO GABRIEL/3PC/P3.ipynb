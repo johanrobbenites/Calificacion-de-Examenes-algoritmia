{
  "nbformat": 4,
  "nbformat_minor": 0,
  "metadata": {
    "colab": {
      "name": "Untitled63.ipynb",
      "provenance": []
    },
    "kernelspec": {
      "name": "python3",
      "display_name": "Python 3"
    },
    "language_info": {
      "name": "python"
    }
  },
  "cells": [
    {
      "cell_type": "code",
      "source": [
        "n1 = int(input(\"INGRESE LA CANTIDAD DE ELEMENTOS PARA LA PRIMERA CADENA: \"))\n",
        "cadena1 = []\n",
        "for i in range(n1):\n",
        "  x = input(\"INGRESE UN ELEMENTO: \")\n",
        "  cadena1.append(x)\n",
        "n2 = int(input(\"INGRESE LA CANTIDAD DE ELEMENTOS PARA LA SEGUNDA CADENA: \"))\n",
        "cadena2 = []\n",
        "for i in range(n2):\n",
        "  y = input(\"INGRESE UN ELEMENTO: \")\n",
        "  cadena2.append(y)\n",
        "def ordenar(x):\n",
        "\tx.sort()\n",
        "\treturn x\n",
        "print(ordenar(cadena1))\n",
        "print(ordenar(cadena2))  \n",
        "interseccion = []\n",
        "for i in cadena1:\n",
        "  for j in cadena2:\n",
        "    if j == i:\n",
        "      interseccion.append(j)\n",
        "    else:\n",
        "      continue\n",
        "union = []\n",
        "unionN = []\n",
        "for i in cadena1:\n",
        "  union.append(i)\n",
        "for j in cadena2:\n",
        "  union.append(j)\n",
        "for n in union:\n",
        "  if n not in unionN:\n",
        "    unionN.append(n)\n",
        "print(f\"UNIÓN = {ordenar(unionN)}\")\n",
        "print(f\"INTERSECCIÓN = {ordenar(interseccion)}\")"
      ],
      "metadata": {
        "colab": {
          "base_uri": "https://localhost:8080/"
        },
        "id": "9kdQQKDrx-02",
        "outputId": "1541b825-6578-417e-b964-f79ff87af1b0"
      },
      "execution_count": 48,
      "outputs": [
        {
          "output_type": "stream",
          "name": "stdout",
          "text": [
            "INGRESE LA CANTIDAD DE ELEMENTOS PARA LA PRIMERA CADENA: 5\n",
            "INGRESE UN ELEMENTO: 1\n",
            "INGRESE UN ELEMENTO: 2\n",
            "INGRESE UN ELEMENTO: 3\n",
            "INGRESE UN ELEMENTO: 4\n",
            "INGRESE UN ELEMENTO: 5\n",
            "INGRESE LA CANTIDAD DE ELEMENTOS PARA LA SEGUNDA CADENA: 3\n",
            "INGRESE UN ELEMENTO: 1\n",
            "INGRESE UN ELEMENTO: 3\n",
            "INGRESE UN ELEMENTO: 9\n",
            "['1', '2', '3', '4', '5']\n",
            "['1', '3', '9']\n",
            "UNIÓN = ['1', '2', '3', '4', '5', '9']\n",
            "INTERSECCIÓN = ['1', '3']\n"
          ]
        }
      ]
    }
  ]
}