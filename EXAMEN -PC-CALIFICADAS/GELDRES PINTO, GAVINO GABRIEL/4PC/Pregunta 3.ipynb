{
  "nbformat": 4,
  "nbformat_minor": 0,
  "metadata": {
    "colab": {
      "name": "Untitled65.ipynb",
      "provenance": [],
      "collapsed_sections": []
    },
    "kernelspec": {
      "name": "python3",
      "display_name": "Python 3"
    },
    "language_info": {
      "name": "python"
    }
  },
  "cells": [
    {
      "cell_type": "code",
      "execution_count": 6,
      "metadata": {
        "colab": {
          "base_uri": "https://localhost:8080/"
        },
        "id": "Cl9CkN7q3faP",
        "outputId": "08350e9c-9e42-40ea-f5c4-09bc9bbb043b"
      },
      "outputs": [
        {
          "output_type": "stream",
          "name": "stdout",
          "text": [
            "Ingrese la cantidad de datos: 3\n",
            "Ingrese un numero: 5\n",
            "Ingrese un numero: 4\n",
            "Ingrese un numero: 8\n",
            "[5, 4, 8]\n"
          ]
        }
      ],
      "source": [
        "dato = int\n",
        "numeros = []\n",
        "n = int(input(\"Ingrese la cantidad de datos: \"))\n",
        "for i in range(n):\n",
        "  x = int(input(\"Ingrese un numero: \"))\n",
        "  numeros.append(x)\n",
        "print(numeros)\n",
        "def buscar(posicion):\n",
        "  for i in range(len(numeros)):\n",
        "    if i == 0:\n",
        "      return -1\n",
        "    else:\n",
        "      posic = buscar(posicion) - len(numeros)\n",
        "elemento_a_buscar = int(input(\"Ingrese el numero que desea buscar: \")\n",
        "print(bucar(elemento_a_buscar))"
      ]
    }
  ]
}