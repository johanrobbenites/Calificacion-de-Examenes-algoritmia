{
  "nbformat": 4,
  "nbformat_minor": 0,
  "metadata": {
    "colab": {
      "name": "Untitled64.ipynb",
      "provenance": [],
      "collapsed_sections": []
    },
    "kernelspec": {
      "name": "python3",
      "display_name": "Python 3"
    },
    "language_info": {
      "name": "python"
    }
  },
  "cells": [
    {
      "cell_type": "code",
      "source": [
        "from typing import Container\n",
        "\"\"\"\n",
        "busqueda de dato\n",
        "\"\"\"\n",
        "f=open(\"alumno.txt\",\"r\")\n",
        "dato=input(\"codigo a buscar  \")\n",
        "\n",
        "for i in f:\n",
        "  reg=i.split(\" \")\n",
        "  #reg=f.read()\n",
        "  #print(\"----\",reg)\n",
        "  cod=reg[0]\n",
        "  curso=reg[1]\n",
        "  nota=reg[2]\n",
        "  contA = 0\n",
        "  contD = 0\n",
        "  if dato==cod:\n",
        "    if nota < 10:\n",
        "      contD += 1\n",
        "    else:\n",
        "      contA += 1 \n",
        "  print(f\"Tiene {contA} curos aprobados\")\n",
        "  print(f\"Tiene {contD} cursos desaprobados\")\n",
        "  if dato==cod:  \n",
        "    print('curso: ', nomb)\n",
        "    print(\"nota  : \",nota)\n",
        "\n",
        "f.close()\n"
      ],
      "metadata": {
        "id": "srgBxQmT52ou"
      },
      "execution_count": null,
      "outputs": []
    }
  ]
}