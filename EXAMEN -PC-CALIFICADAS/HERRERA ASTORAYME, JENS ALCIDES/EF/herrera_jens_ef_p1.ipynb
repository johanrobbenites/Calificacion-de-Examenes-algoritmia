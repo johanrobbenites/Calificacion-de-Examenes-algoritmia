{
  "nbformat": 4,
  "nbformat_minor": 0,
  "metadata": {
    "colab": {
      "name": "herrera-jens-ef-p1.ipynb",
      "provenance": [],
      "collapsed_sections": []
    },
    "kernelspec": {
      "name": "python3",
      "display_name": "Python 3"
    },
    "language_info": {
      "name": "python"
    }
  },
  "cells": [
    {
      "cell_type": "code",
      "source": [
        "from google.colab import drive\n",
        "drive.mount(\"/content/drive/\")"
      ],
      "metadata": {
        "colab": {
          "base_uri": "https://localhost:8080/"
        },
        "id": "ZNVtHzgGrQx-",
        "outputId": "bb1ba7dc-f1ab-47b2-90ed-10120a140cbf"
      },
      "execution_count": 1,
      "outputs": [
        {
          "output_type": "stream",
          "name": "stdout",
          "text": [
            "Mounted at /content/drive/\n"
          ]
        }
      ]
    },
    {
      "cell_type": "code",
      "execution_count": 2,
      "metadata": {
        "colab": {
          "base_uri": "https://localhost:8080/"
        },
        "id": "FclfqV0Ynj7I",
        "outputId": "849de690-b6a6-4455-e60c-31eda107be85"
      },
      "outputs": [
        {
          "output_type": "stream",
          "name": "stdout",
          "text": [
            "Ingrese cantidad de notas:10\n",
            "Ingrese sección: W\n",
            "Ingrese nota: 12\n",
            "Ingrese sección: U\n",
            "Ingrese nota: 15\n",
            "Ingrese sección: W\n",
            "Ingrese nota: 8\n",
            "Ingrese sección: V\n",
            "Ingrese nota: 11\n",
            "Ingrese sección: U\n",
            "Ingrese nota: 10\n",
            "Ingrese sección: W\n",
            "Ingrese nota: 11\n",
            "Ingrese sección: U\n",
            "Ingrese nota: 11\n",
            "Ingrese sección: V\n",
            "Ingrese nota: 6\n",
            "Ingrese sección: V\n",
            "Ingrese nota: 10\n",
            "Ingrese sección: W\n",
            "Ingrese nota: 11\n",
            "\n",
            "W12 U15 W8 V11 U10 \n",
            "\n",
            "W11 U11 V6 V10 W11 \n"
          ]
        }
      ],
      "source": [
        "f=open(\"ALGORITMIA.txt\",\"a\")\n",
        "n = int(input(\"Ingrese cantidad de notas:\"))\n",
        "for i in range(n):\n",
        "  sec = input(\"Ingrese sección: \")\n",
        "  nota = int(input(\"Ingrese nota: \"))\n",
        "  while nota <0 and nota>20:\n",
        "    nota = int(input(\"Ingrese nota: \"))\n",
        "  linea=str(sec)+str(nota)+\" \"\n",
        "  if i == 4:\n",
        "    linea += \"\\n\"\n",
        "  f.write(linea)\n",
        "f.close()\n",
        "print()\n",
        "\n",
        "f=open(\"ALGORITMIA.txt\",\"r\")\n",
        "for i in f:\n",
        "\tprint(i)\n",
        "f.close()"
      ]
    }
  ]
}