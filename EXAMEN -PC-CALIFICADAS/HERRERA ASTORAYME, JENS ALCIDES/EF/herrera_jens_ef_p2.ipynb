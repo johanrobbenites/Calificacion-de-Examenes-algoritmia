{
  "nbformat": 4,
  "nbformat_minor": 0,
  "metadata": {
    "colab": {
      "name": "herrera-jens-ef-p2.ipynb",
      "provenance": [],
      "collapsed_sections": []
    },
    "kernelspec": {
      "name": "python3",
      "display_name": "Python 3"
    },
    "language_info": {
      "name": "python"
    }
  },
  "cells": [
    {
      "cell_type": "code",
      "source": [
        "from google.colab import drive\n",
        "drive.mount(\"/content/drive/\")"
      ],
      "metadata": {
        "colab": {
          "base_uri": "https://localhost:8080/"
        },
        "id": "B-Ya3HudzTn0",
        "outputId": "dccd0e68-8192-487f-e81c-88991c9b6e60"
      },
      "execution_count": 1,
      "outputs": [
        {
          "output_type": "stream",
          "name": "stdout",
          "text": [
            "Mounted at /content/drive/\n"
          ]
        }
      ]
    },
    {
      "cell_type": "code",
      "execution_count": 9,
      "metadata": {
        "colab": {
          "base_uri": "https://localhost:8080/",
          "height": 712
        },
        "id": "c-mmakyJxE98",
        "outputId": "912cc21c-0324-4428-fa0b-322d64e1d7a3"
      },
      "outputs": [
        {
          "output_type": "stream",
          "name": "stdout",
          "text": [
            "Ingrese cantidad de vendedores:6\n",
            "Ingrese monto: 42067\n",
            "Ingrese nombre: Juan Rios\n",
            "Ingrese monto: 15023.70\n",
            "Ingrese nombre: Javier Ramirez\n",
            "Ingrese monto: 18097\n",
            "Ingrese nombre: Luiz Alvarez\n",
            "Ingrese monto: 48749.40\n",
            "Ingrese nombre: Juan Millones\n",
            "Ingrese monto: 35267\n",
            "Ingrese nombre: Mariela Fajardo\n",
            "Ingrese monto: 20527\n",
            "Ingrese nombre: Manuel Lopez\n",
            "\n",
            "42067.0 Julia Rios\n",
            "\n",
            "15023.7 javier ramirez\n",
            "\n",
            "18097.0 luis alvarez\n",
            "\n",
            "48749.0 juan millones\n",
            "\n",
            "35267.0 mariela fajardo\n",
            "\n",
            "20527.0 manuel lopez\n",
            "\n",
            "42067.0  Juan Rios\n",
            "\n",
            "15023.7  Javier Ramirez\n",
            "\n",
            "18097.0  Luiz Alvarez\n",
            "\n",
            "48749.4  Juan Millones\n",
            "\n",
            "35267.0  Mariela Fajardo\n",
            "\n",
            "20527.0  Manuel Lopez\n",
            "\n"
          ]
        },
        {
          "output_type": "execute_result",
          "data": {
            "text/plain": [
              "'42067.00  Juan Rios\\n  15023.70  Javier Ramirez\\n  18097.00  Luiz Alvarez\\n  ........  ............\\n  48749.40  Juan Millones\\n  35267.00  Mariela Fajardo\\n  20527.00  Manuel Lopez '"
            ],
            "application/vnd.google.colaboratory.intrinsic+json": {
              "type": "string"
            }
          },
          "metadata": {},
          "execution_count": 9
        }
      ],
      "source": [
        "f=open(\"VENTAS.txt\",\"a\")\n",
        "n = int(input(\"Ingrese cantidad de vendedores:\"))\n",
        "#while n<=10:\n",
        " # n = int(input(\"Ingrese cantidad de vendedores:\"))\n",
        "for i in range(n):\n",
        "  monto = float(input(\"Ingrese monto: \"))\n",
        "  vendedor = input(\"Ingrese nombre: \")\n",
        "\n",
        "  linea=str(monto)+\"  \"+vendedor+\"\\n\"\n",
        "  f.write(linea)\n",
        "f.close()\n",
        "print()\n",
        "\n",
        "f=open(\"VENTAS.txt\",\"r\")\n",
        "for i in f:\n",
        "\tprint(i)\n",
        "f.close()\n",
        "\"\"\"42067.00  Juan Rios\n",
        "  15023.70  Javier Ramirez\n",
        "  18097.00  Luiz Alvarez\n",
        "  ........  ............\n",
        "  48749.40  Juan Millones\n",
        "  35267.00  Mariela Fajardo\n",
        "  20527.00  Manuel Lopez \"\"\""
      ]
    },
    {
      "cell_type": "code",
      "source": [
        "lista = []\n",
        "diccionario = {}\n",
        "f=open(\"VENTAS.txt\",\"r\")\n",
        "for i in f:\n",
        "  lista.append(i)\n",
        "print(lista)\n",
        "for i in range(len(lista)):\n",
        "  elemento = lista[i].split(\"  \")\n",
        "  print(elemento)"
      ],
      "metadata": {
        "colab": {
          "base_uri": "https://localhost:8080/"
        },
        "id": "lufZJNtF0dDj",
        "outputId": "46913abf-d69d-4814-c24b-1646283d6ebc"
      },
      "execution_count": 10,
      "outputs": [
        {
          "output_type": "stream",
          "name": "stdout",
          "text": [
            "['42067.0 Julia Rios\\n', '15023.7 javier ramirez\\n', '18097.0 luis alvarez\\n', '48749.0 juan millones\\n', '35267.0 mariela fajardo\\n', '20527.0 manuel lopez\\n', '42067.0  Juan Rios\\n', '15023.7  Javier Ramirez\\n', '18097.0  Luiz Alvarez\\n', '48749.4  Juan Millones\\n', '35267.0  Mariela Fajardo\\n', '20527.0  Manuel Lopez\\n']\n",
            "['42067.0 Julia Rios\\n']\n",
            "['15023.7 javier ramirez\\n']\n",
            "['18097.0 luis alvarez\\n']\n",
            "['48749.0 juan millones\\n']\n",
            "['35267.0 mariela fajardo\\n']\n",
            "['20527.0 manuel lopez\\n']\n",
            "['42067.0', 'Juan Rios\\n']\n",
            "['15023.7', 'Javier Ramirez\\n']\n",
            "['18097.0', 'Luiz Alvarez\\n']\n",
            "['48749.4', 'Juan Millones\\n']\n",
            "['35267.0', 'Mariela Fajardo\\n']\n",
            "['20527.0', 'Manuel Lopez\\n']\n"
          ]
        }
      ]
    },
    {
      "cell_type": "code",
      "source": [
        ""
      ],
      "metadata": {
        "id": "xNB8e2GP40hD"
      },
      "execution_count": null,
      "outputs": []
    }
  ]
}