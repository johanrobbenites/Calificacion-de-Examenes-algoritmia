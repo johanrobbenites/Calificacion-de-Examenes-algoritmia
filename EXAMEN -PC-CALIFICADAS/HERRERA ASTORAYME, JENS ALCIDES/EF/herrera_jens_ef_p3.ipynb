{
  "nbformat": 4,
  "nbformat_minor": 0,
  "metadata": {
    "colab": {
      "name": "herrera-jens-ef-p3.ipynb",
      "provenance": [],
      "collapsed_sections": []
    },
    "kernelspec": {
      "name": "python3",
      "display_name": "Python 3"
    },
    "language_info": {
      "name": "python"
    }
  },
  "cells": [
    {
      "cell_type": "code",
      "execution_count": 7,
      "metadata": {
        "colab": {
          "base_uri": "https://localhost:8080/"
        },
        "id": "Rgz3oxnr5XBo",
        "outputId": "309c5588-0ebd-4afa-d7f7-a781e074e8c6"
      },
      "outputs": [
        {
          "output_type": "stream",
          "name": "stdout",
          "text": [
            "Ingrese texto: Yo hago Yoga hoy\n",
            "yohagoyogahoy\n",
            "Es palindromo\n"
          ]
        }
      ],
      "source": [
        "def palindromo(cadena):\n",
        "  def minuscula(cadena):\n",
        "    cadena = cadena.lower()\n",
        "    resultado = ''\n",
        "    for l in cadena:\n",
        "      if l in 'abcdefghijklmnñopqrstuvwxyz':\n",
        "        resultado += l\n",
        "    return resultado\n",
        "  print(minuscula(texto))\n",
        "  def evaluacion(cadena):\n",
        "    if len(cadena) <= 1:\n",
        "      return \"Es palindromo\"\n",
        "    else:\n",
        "      return cadena[0]==cadena[-1] and evaluacion(cadena[1:-1])\n",
        "  return evaluacion(minuscula(cadena))\n",
        "texto=input(\"Ingrese texto: \")\n",
        "\n",
        "print(palindromo(texto))"
      ]
    }
  ]
}