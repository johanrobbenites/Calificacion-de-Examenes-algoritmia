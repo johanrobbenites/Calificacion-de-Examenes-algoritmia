{
  "nbformat": 4,
  "nbformat_minor": 0,
  "metadata": {
    "colab": {
      "name": "herrera-jens-ep-p2.ipynb",
      "provenance": []
    },
    "kernelspec": {
      "name": "python3",
      "display_name": "Python 3"
    },
    "language_info": {
      "name": "python"
    }
  },
  "cells": [
    {
      "cell_type": "code",
      "execution_count": null,
      "metadata": {
        "colab": {
          "base_uri": "https://localhost:8080/"
        },
        "id": "a6h5VgRmloPj",
        "outputId": "a3269b92-7613-4a40-c4ca-f27ff675bef9"
      },
      "outputs": [
        {
          "output_type": "stream",
          "name": "stdout",
          "text": [
            "Ingrese un número en base 10: 154\n",
            "El número es capicúa en la base: 6 (pues el número es 414)\n",
            "El número es capicúa en la base: 8 (pues el número es 232)\n",
            "El número es capicúa en la base: 9 (pues el número es 181)\n"
          ]
        }
      ],
      "source": [
        "n = int(input(\"Ingrese un número en base 10: \"))\n",
        "bases=[0,0,0,0,0,0,0,0]\n",
        "capicuas = []\n",
        "indc=[]\n",
        "while n<=0:\n",
        "  n = int(input(\"Ingrese un número en base 10: \"))\n",
        "# LISTA BASES\n",
        "for b in range(2, 10):\n",
        "  nb = 0\n",
        "  aux = n   #aux=25\n",
        "  exp = 0\n",
        "  while aux!=0:   \n",
        "    r=aux%b   #r=25%2=1\n",
        "    nb += r*(10**(exp))   #nb= \n",
        "    aux = aux//b\n",
        "    exp+=1\n",
        "  bases[b-2]= nb\n",
        "\n",
        "#          2       3   4    5    6   7   8  9\n",
        "#bases = [11001, 221, 121, 100, 41, 34, 31, 27]\n",
        "for b in range(8):\n",
        "  nc=0\n",
        "  aux=bases[b]  #aux=11001\n",
        "  while aux!=0:\n",
        "    r=aux%10  #r=1\n",
        "    nc = 10*nc+ r\n",
        "    aux = aux//10\n",
        "  if nc==bases[b]:\n",
        "    capicuas.append(nc)\n",
        "    indc.append(b)\n",
        "for i in range(len(indc)):\n",
        "  print(f\"El número es capicúa en la base: {indc[i]+2} (pues el número es {bases[indc[i]]})\")\n"
      ]
    }
  ]
}