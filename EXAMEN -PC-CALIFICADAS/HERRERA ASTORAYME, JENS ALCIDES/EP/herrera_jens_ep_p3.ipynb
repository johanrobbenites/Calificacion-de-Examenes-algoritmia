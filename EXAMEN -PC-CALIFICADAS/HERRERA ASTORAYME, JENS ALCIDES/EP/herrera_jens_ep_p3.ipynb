{
  "nbformat": 4,
  "nbformat_minor": 0,
  "metadata": {
    "colab": {
      "name": "herrera-jens-ep-p3.ipynb",
      "provenance": [],
      "collapsed_sections": []
    },
    "kernelspec": {
      "name": "python3",
      "display_name": "Python 3"
    },
    "language_info": {
      "name": "python"
    }
  },
  "cells": [
    {
      "cell_type": "markdown",
      "source": [
        "Escriba un programa que gire sucesivamente 90° una matriz rectangular de M*N en sentido horario hasta volver a\n",
        "la matriz original. Debe imprimir la matriz original y la matriz luego de cada giro"
      ],
      "metadata": {
        "id": "eMEr-Ye0pG6p"
      }
    },
    {
      "cell_type": "code",
      "execution_count": 6,
      "metadata": {
        "colab": {
          "base_uri": "https://localhost:8080/",
          "height": 373
        },
        "id": "w-KMTCV5pBLE",
        "outputId": "57229a14-14a6-48c6-f994-a25f77d89f80"
      },
      "outputs": [
        {
          "output_type": "stream",
          "name": "stdout",
          "text": [
            "Ingrese numero de filas: 2\n",
            "Ingrese numero de columnas: 3\n",
            "matriz[0][0]: 1\n",
            "matriz[0][1]: 2\n",
            "matriz[0][2]: 3\n",
            "matriz[1][0]: 4\n",
            "matriz[1][1]: 5\n",
            "matriz[1][2]: 6\n",
            "[[1, 2, 3], [4, 5, 6]]\n"
          ]
        },
        {
          "output_type": "error",
          "ename": "IndexError",
          "evalue": "ignored",
          "traceback": [
            "\u001b[0;31m---------------------------------------------------------------------------\u001b[0m",
            "\u001b[0;31mIndexError\u001b[0m                                Traceback (most recent call last)",
            "\u001b[0;32m<ipython-input-6-66e5b67dfde6>\u001b[0m in \u001b[0;36m<module>\u001b[0;34m()\u001b[0m\n\u001b[1;32m     16\u001b[0m \u001b[0;32mfor\u001b[0m \u001b[0mi\u001b[0m \u001b[0;32min\u001b[0m \u001b[0mrange\u001b[0m\u001b[0;34m(\u001b[0m\u001b[0mM\u001b[0m\u001b[0;34m)\u001b[0m\u001b[0;34m:\u001b[0m\u001b[0;34m\u001b[0m\u001b[0;34m\u001b[0m\u001b[0m\n\u001b[1;32m     17\u001b[0m   \u001b[0;32mfor\u001b[0m \u001b[0mj\u001b[0m \u001b[0;32min\u001b[0m \u001b[0mrange\u001b[0m\u001b[0;34m(\u001b[0m\u001b[0mN\u001b[0m\u001b[0;34m-\u001b[0m\u001b[0;36m1\u001b[0m\u001b[0;34m)\u001b[0m\u001b[0;34m:\u001b[0m\u001b[0;34m\u001b[0m\u001b[0;34m\u001b[0m\u001b[0m\n\u001b[0;32m---> 18\u001b[0;31m     \u001b[0mg1\u001b[0m\u001b[0;34m[\u001b[0m\u001b[0mj\u001b[0m\u001b[0;34m]\u001b[0m\u001b[0;34m[\u001b[0m\u001b[0mi\u001b[0m\u001b[0;34m]\u001b[0m\u001b[0;34m=\u001b[0m\u001b[0mmatriz\u001b[0m\u001b[0;34m[\u001b[0m\u001b[0mi\u001b[0m\u001b[0;34m]\u001b[0m\u001b[0;34m[\u001b[0m\u001b[0mj\u001b[0m\u001b[0;34m+\u001b[0m\u001b[0;36m1\u001b[0m\u001b[0;34m]\u001b[0m  \u001b[0;31m# g1[0][0] = matriz[1][0]; #g1[0][1]\u001b[0m\u001b[0;34m\u001b[0m\u001b[0;34m\u001b[0m\u001b[0m\n\u001b[0m\u001b[1;32m     19\u001b[0m \u001b[0mprint\u001b[0m\u001b[0;34m(\u001b[0m\u001b[0mg1\u001b[0m\u001b[0;34m)\u001b[0m\u001b[0;34m\u001b[0m\u001b[0;34m\u001b[0m\u001b[0m\n",
            "\u001b[0;31mIndexError\u001b[0m: list index out of range"
          ]
        }
      ],
      "source": [
        "matriz = []\n",
        "g1=[]\n",
        "g2=[]\n",
        "g3=[]\n",
        "M=int(input(\"Ingrese numero de filas: \"))\n",
        "N=int(input(\"Ingrese numero de columnas: \"))\n",
        "for i in range(M):\n",
        "  matriz.append([0]*N)\n",
        "#INSERTAR DATOS:\n",
        "for i in range(M):\n",
        "  for j in range(N):\n",
        "    matriz[i][j]=int(input(f\"matriz[{i}][{j}]: \"))\n",
        "print(matriz)\n",
        "#matriz = [[1, 2, 3], [4, 5, 6]]\n",
        "#GIRAR MATRIZ\n",
        "for i in range(M):\n",
        "  for j in range(N):\n",
        "    g1[j][i]=matriz[i][j]  # g1[0][0] = matriz[1][0]; #g1[0][1]\n",
        "print(g1)\n"
      ]
    }
  ]
}