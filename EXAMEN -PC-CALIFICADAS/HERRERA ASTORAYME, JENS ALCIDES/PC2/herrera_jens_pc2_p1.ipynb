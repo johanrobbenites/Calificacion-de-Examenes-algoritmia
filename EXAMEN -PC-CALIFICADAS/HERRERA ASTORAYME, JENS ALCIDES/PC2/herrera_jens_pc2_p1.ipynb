{
  "nbformat": 4,
  "nbformat_minor": 0,
  "metadata": {
    "colab": {
      "name": "herrera-jens-pc2-p1.ipynb",
      "provenance": []
    },
    "kernelspec": {
      "name": "python3",
      "display_name": "Python 3"
    },
    "language_info": {
      "name": "python"
    }
  },
  "cells": [
    {
      "cell_type": "code",
      "execution_count": null,
      "metadata": {
        "id": "PXxdEwNOKFxj"
      },
      "outputs": [],
      "source": [
        ""
      ]
    },
    {
      "cell_type": "code",
      "source": [
        "n = int(input(\"Ingrese la cantidad de alumnos: \"))\n",
        "aprobados = 0\n",
        "arreglo = [0]*n\n",
        "for i in range(n):\n",
        "  arreglo[i]=int(input(f\"Nota del alumno {i+1}: \"))\n",
        "  if arreglo[i]>=10:\n",
        "    aprobados += 1\n",
        "porcentaje = (aprobados/n)*100\n",
        "#print(arreglo)\n",
        "for i in range(len(arreglo)):\n",
        "  print(arreglo[i],end='  ')\n",
        "#print(aprobados)\n",
        "print(f\"{round(porcentaje,2)}% de aprobados\")\n",
        "while porcentaje<70:\n",
        "  aprobados=0\n",
        "  for i in range(len(arreglo)):\n",
        "    arreglo[i]+=1\n",
        "    if arreglo[i]>=10:\n",
        "      aprobados+=1\n",
        "  porcentaje = (aprobados/n)*100\n",
        "  #print(arreglo)\n",
        "  for i in range(len(arreglo)):\n",
        "    print(arreglo[i],end='  ')\n",
        "  print(f\"{round(porcentaje,2)}% de aprobados\")\n",
        "# 7  9  14  8  6  5  10  28.57% de aprobados\n"
      ],
      "metadata": {
        "colab": {
          "base_uri": "https://localhost:8080/"
        },
        "id": "VUAV_8PlKTL3",
        "outputId": "01c0fa5e-57eb-4391-96ca-a66569707da2"
      },
      "execution_count": 15,
      "outputs": [
        {
          "output_type": "stream",
          "name": "stdout",
          "text": [
            "Ingrese la cantidad de alumnos: 7\n",
            "Nota del alumno 1: 7\n",
            "Nota del alumno 2: 9\n",
            "Nota del alumno 3: 14\n",
            "Nota del alumno 4: 8\n",
            "Nota del alumno 5: 6\n",
            "Nota del alumno 6: 5\n",
            "Nota del alumno 7: 10\n",
            "7  9  14  8  6  5  10  28.57% de aprobados\n",
            "8  10  15  9  7  6  11  42.86% de aprobados\n",
            "9  11  16  10  8  7  12  57.14% de aprobados\n",
            "10  12  17  11  9  8  13  71.43% de aprobados\n"
          ]
        }
      ]
    }
  ]
}