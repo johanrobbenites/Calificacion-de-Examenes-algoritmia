{
  "nbformat": 4,
  "nbformat_minor": 0,
  "metadata": {
    "colab": {
      "name": "herrera-jens-pc2-p2.ipynb",
      "provenance": []
    },
    "kernelspec": {
      "name": "python3",
      "display_name": "Python 3"
    },
    "language_info": {
      "name": "python"
    }
  },
  "cells": [
    {
      "cell_type": "code",
      "execution_count": 9,
      "metadata": {
        "colab": {
          "base_uri": "https://localhost:8080/",
          "height": 574
        },
        "id": "ixhhZa-XRbAk",
        "outputId": "6a02f1a0-42a0-403e-8639-a2e4a6bf2822"
      },
      "outputs": [
        {
          "output_type": "stream",
          "name": "stdout",
          "text": [
            "Código de empleado: 1\n",
            "Código de producto: 2\n",
            "Cantidad: 5\n",
            "Código de empleado: 2\n",
            "Código de producto: 2\n",
            "Cantidad: 3\n",
            "Código de empleado: 1\n",
            "Código de producto: 3\n",
            "Cantidad: 20\n",
            "Código de empleado: 1\n",
            "Código de producto: 1\n",
            "Cantidad: 8\n",
            "Código de empleado: 0\n",
            "[[8, 5, 20], [0, 3, 0], [0, 0, 0], [0, 0, 0]]\n",
            "Empleado: 1\n",
            "Producto 1: 8\n",
            "Producto 2: 5\n",
            "Producto 3: 20\n",
            "Empleado: 2\n",
            "Producto 1: 0\n",
            "Producto 2: 3\n",
            "Producto 3: 0\n",
            "Empleado: 3\n",
            "Producto 1: 0\n",
            "Producto 2: 0\n",
            "Producto 3: 0\n",
            "Empleado: 4\n",
            "Producto 1: 0\n",
            "Producto 2: 0\n",
            "Producto 3: 0\n"
          ]
        },
        {
          "output_type": "execute_result",
          "data": {
            "text/plain": [
              "'\\nfor i in range(len(arreglo)):\\n  #arreglo[i] = [8,5,20]\\n  #ind = [0,1,2]\\n  for j in range(1, len(arreglo[i])-1):\\n    #arreglo[i][j] = 8\\n    if arreglo[i][j]>arreglo[i][j+1]:\\n      aux = arreglo[i][j]\\n      arreglo[i][j]=arreglo[i][j+1]\\n      arreglo[i][j+1]=aux\\nprint(arreglo)\\n'"
            ],
            "application/vnd.google.colaboratory.intrinsic+json": {
              "type": "string"
            }
          },
          "metadata": {},
          "execution_count": 9
        }
      ],
      "source": [
        "arreglo = []\n",
        "for i in range(4):\n",
        "  arreglo.append([0]*3)\n",
        "cempleado = int(input(\"Código de empleado: \"))\n",
        "while cempleado != 0:\n",
        "  cproducto = int(input(\"Código de producto: \"))\n",
        "  cantidad = int(input(\"Cantidad: \"))\n",
        "  if (cempleado>=1 and cempleado<=4) and (cproducto>=1 and cproducto<=3):\n",
        "    arreglo[cempleado-1][cproducto-1] += cantidad\n",
        "  cempleado = int(input(\"Código de empleado: \"))\n",
        "print(arreglo)\n",
        "for i in range(4):\n",
        "  print(\"Empleado:\",i+1)\n",
        "  for j in range(3):\n",
        "    print(f\"Producto {j+1}:\",arreglo[i][j])\n"
      ]
    },
    {
      "cell_type": "code",
      "source": [
        ""
      ],
      "metadata": {
        "id": "1Gm8OG53Y5s8"
      },
      "execution_count": null,
      "outputs": []
    }
  ]
}