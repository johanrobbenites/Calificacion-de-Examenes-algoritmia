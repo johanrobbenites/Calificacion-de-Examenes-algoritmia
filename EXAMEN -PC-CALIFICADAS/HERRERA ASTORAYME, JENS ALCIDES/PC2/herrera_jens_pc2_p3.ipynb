{
  "nbformat": 4,
  "nbformat_minor": 0,
  "metadata": {
    "colab": {
      "name": "herrera-jens-pc2-p3.ipynb",
      "provenance": []
    },
    "kernelspec": {
      "name": "python3",
      "display_name": "Python 3"
    },
    "language_info": {
      "name": "python"
    }
  },
  "cells": [
    {
      "cell_type": "code",
      "execution_count": 9,
      "metadata": {
        "colab": {
          "base_uri": "https://localhost:8080/"
        },
        "id": "fyT1Eiy5aY76",
        "outputId": "92f3d66e-0e98-4f71-d9e8-f7e501d9391c"
      },
      "outputs": [
        {
          "output_type": "stream",
          "name": "stdout",
          "text": [
            "Base de sistema de numeración: 4\n",
            "DIGITOS DEL PRIMER NÚMERO\n",
            "Cantidad de cifras del primer número: 3\n",
            "Ingrese dígitos: 2\n",
            "Ingrese dígitos: 3\n",
            "Ingrese dígitos: 1\n",
            "DIGITOS DEL SEGUNDO NÚMERO\n",
            "Cantidad de cifras del segundo número: 4\n",
            "Ingrese dígitos: 1\n",
            "Ingrese dígitos: 2\n",
            "Ingrese dígitos: 3\n",
            "Ingrese dígitos: 0\n",
            "2 3 1 1 2 3 0 [2, 3, 1]\n",
            "[1, 2, 3, 0]\n",
            "[0, 0, 0, 3, 3, 0, 2, 0, 4, 1, 3, 2]\n"
          ]
        }
      ],
      "source": [
        "d1=[]\n",
        "d2=[]\n",
        "dp=[]\n",
        "b = int(input(\"Base de sistema de numeración: \"))\n",
        "while b<2:\n",
        "  print(\"¡BASE INVÁLIDA!\")\n",
        "  b = int(input(\"Base de sistema de numeración: \"))\n",
        "\n",
        "print(\"DIGITOS DEL PRIMER NÚMERO\")\n",
        "c1=int(input(\"Cantidad de cifras del primer número: \"))\n",
        "for i in range(c1):\n",
        "  digito1 = int(input(\"Ingrese dígitos: \"))\n",
        "  while digito1>=6 and digito1<0:\n",
        "    print(\"¡DÍGITO INVÁLIDO!\")\n",
        "    digito1 = int(input(\"Ingrese dígitos: \"))\n",
        "  d1.append(digito1)\n",
        "\n",
        "print(\"DIGITOS DEL SEGUNDO NÚMERO\")\n",
        "c2=int(input(\"Cantidad de cifras del segundo número: \"))\n",
        "for i in range(c2):\n",
        "  digito1 = int(input(\"Ingrese dígitos: \"))\n",
        "  while digito1>=6 and digito1<0:\n",
        "    print(\"¡DÍGITO INVÁLIDO!\")\n",
        "    digito1 = int(input(\"Ingrese dígitos: \"))\n",
        "  d2.append(digito1)\n",
        "\n",
        "\n",
        "for j in range(c2,0,-1):\n",
        "  for i in range(c1,0,-1):\n",
        "    # 5 * {1,4,0,3}\n",
        "    if d2[j-1]*d1[i-1]<=5:5\n",
        "      dp.append((d2[j-1]*d1[i-1]))\n",
        "    else:\n",
        "      r=d2[j-1]*d1[i-1]%6\n",
        "      l= d2[j-1]*d1[i-1]//6\n",
        "      dp.append(r)\n",
        "print(d1)\n",
        "print(d2)\n",
        "print(dp)\n",
        "# 5 3 0 4 1\n",
        "# 2 4 1 5"
      ]
    }
  ]
}