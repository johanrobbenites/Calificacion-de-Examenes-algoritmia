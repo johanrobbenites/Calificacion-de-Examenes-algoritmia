{
  "nbformat": 4,
  "nbformat_minor": 0,
  "metadata": {
    "colab": {
      "name": "Herrera-Jens-pc3-p3.ipynb",
      "provenance": [],
      "collapsed_sections": []
    },
    "kernelspec": {
      "name": "python3",
      "display_name": "Python 3"
    },
    "language_info": {
      "name": "python"
    }
  },
  "cells": [
    {
      "cell_type": "code",
      "execution_count": 21,
      "metadata": {
        "colab": {
          "base_uri": "https://localhost:8080/"
        },
        "id": "vuBf55xIltEb",
        "outputId": "7b0ebe7a-770b-47de-987d-191866aff0b8"
      },
      "outputs": [
        {
          "output_type": "stream",
          "name": "stdout",
          "text": [
            "UNION = {-41; -3; -2; 0; 1; 2; 123}\n",
            "INTERSECCION = {-2; 1}\n"
          ]
        }
      ],
      "source": [
        "def union_interseccion(cadena1,cadena2):\n",
        "  #cadena1 = [-41, -2, 0, 1, 123]\n",
        "  #cadena2 = [-3, -2, 1, 2]\n",
        "  union = []\n",
        "  interseccion = []\n",
        "  resultado = \"UNION = {\"\n",
        "  # ---- UNION ----\n",
        "  for i in range(len(cadena1)):\n",
        "    if cadena1[i] not in union:\n",
        "      union.append(cadena1[i])\n",
        "  for j in range(len(cadena2)):\n",
        "    if cadena2[j] not in union:\n",
        "      union.append(cadena2[j])\n",
        "  union.sort()\n",
        "\n",
        "  # ---- INTERSECCIÓN ----\n",
        "  for i in range(len(cadena1)):\n",
        "    for j in range(len(cadena2)):\n",
        "      if cadena2[j]==cadena1[i]:\n",
        "        if cadena2[j] not in interseccion:\n",
        "          interseccion.append(cadena2[j])\n",
        "  interseccion.sort()\n",
        "  # ([-41, -3, -2, 0, 1, 2, 123], [-2, 1])\n",
        "  if len(union)>0:\n",
        "    for i in range(len(union)-1):\n",
        "      resultado += str(union[i]) + '; '\n",
        "    resultado += str(union[-1]) + '}\\nINTERSECCION = {'\n",
        "  else:\n",
        "    resultado += '}\\nINTERSECCION = {'\n",
        "  if len(interseccion)>0:\n",
        "    for j in range(len(interseccion)-1):\n",
        "      resultado += str(interseccion[j]) + '; '\n",
        "    resultado += str(interseccion[-1]) + '}'\n",
        "  else:\n",
        "    resultado += '}'\n",
        "  return resultado\n",
        "cadenaa = [-41, -2, 0, 1, 123]\n",
        "cadenab = [-3, -2, 1, 2]\n",
        "print(union_interseccion(cadenaa,cadenab))\n",
        "\n"
      ]
    }
  ]
}