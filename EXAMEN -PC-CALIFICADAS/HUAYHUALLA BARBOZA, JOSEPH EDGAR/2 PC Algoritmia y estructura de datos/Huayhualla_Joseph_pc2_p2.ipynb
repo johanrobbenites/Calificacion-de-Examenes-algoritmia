{
  "nbformat": 4,
  "nbformat_minor": 0,
  "metadata": {
    "colab": {
      "name": "Huayhualla-Joseph-pc2-p2.ipynb",
      "provenance": []
    },
    "kernelspec": {
      "name": "python3",
      "display_name": "Python 3"
    },
    "language_info": {
      "name": "python"
    }
  },
  "cells": [
    {
      "cell_type": "code",
      "execution_count": null,
      "metadata": {
        "id": "SdqEGds1RWNu"
      },
      "outputs": [],
      "source": [
        "l=[]\n",
        "for i in range(4):\n",
        "    l.append([0]*3)\n",
        "code=-2\n",
        "while code!=0:\n",
        "  code=int(input(\"Código del empleado: \"))\n",
        "  codp=int(input(\"Código del producto: \"))\n",
        "  can=int(input(\"Cantidad: \"))\n",
        "  if (1<=code<=4)and (1<=code<=3) and (can>0):\n",
        "    l[code-1][codp-1]=l[code-1][codp-1]+1\n",
        "for i in range(4):\n",
        "  for j in range(3):\n",
        "    if l[i][2]>l[j+1][2]:\n",
        "      m=l[i]\n",
        "      l[i]=l[i+1]\n",
        "      l[i+1]=m\n",
        "\n",
        "\n",
        "\n",
        "\n",
        "\n",
        "\n",
        "\n"
      ]
    }
  ]
}