{
  "nbformat": 4,
  "nbformat_minor": 0,
  "metadata": {
    "colab": {
      "name": "Huayhualla-Joseph-pc2-p3.ipynb",
      "provenance": []
    },
    "kernelspec": {
      "name": "python3",
      "display_name": "Python 3"
    },
    "language_info": {
      "name": "python"
    }
  },
  "cells": [
    {
      "cell_type": "code",
      "execution_count": null,
      "metadata": {
        "id": "V0Dulps9Z9hx"
      },
      "outputs": [],
      "source": [
        "base=int(\"Base del sistema de numeración: \")\n",
        "if base>=2:\n",
        "  l1=list(input(\"Ingrese los dígitos del primer número: \"))\n",
        "  l2=list(input(\"Ingrese los dígitos del segundo número: \"))\n",
        "  cocien=0\n",
        "  productosparc=[]\n",
        "  for i in range(-1,-len(l2)+1,-1):\n",
        "    for j in range(-1,-len(l1)+1,-1):\n",
        "      prod=int(l2[j])*int(l1[i])+cocien\n",
        "      cocien=prod//base\n",
        "      res=prod%base\n",
        "      productosparc.append(res)\n",
        "    \n",
        "    \n",
        "\n",
        "\n"
      ]
    }
  ]
}