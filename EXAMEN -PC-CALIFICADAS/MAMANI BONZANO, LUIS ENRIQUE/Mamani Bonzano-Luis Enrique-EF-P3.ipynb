{
  "nbformat": 4,
  "nbformat_minor": 0,
  "metadata": {
    "colab": {
      "name": "EF-p3.ipynb",
      "provenance": []
    },
    "kernelspec": {
      "name": "python3",
      "display_name": "Python 3"
    },
    "language_info": {
      "name": "python"
    }
  },
  "cells": [
    {
      "cell_type": "code",
      "execution_count": 8,
      "metadata": {
        "colab": {
          "base_uri": "https://localhost:8080/"
        },
        "id": "mGVEO1hz6Siz",
        "outputId": "b52f4094-833f-42d8-8b7b-fe89d33c8924"
      },
      "outputs": [
        {
          "output_type": "stream",
          "name": "stdout",
          "text": [
            "Ingrese una oración: Yo hago Yoga hoy\n",
            "La oración es:  Yo hago Yoga hoy\n",
            "Sin espacios en blanco y minuscula:  yohagoyogahoy\n",
            "¿La oración es palindroma?:  True\n"
          ]
        }
      ],
      "source": [
        "def palindroma(palabra):\n",
        "  if len(palabra) < 1:\n",
        "    return True\n",
        "  else:\n",
        "    if palabra[0] == palabra[-1]:\n",
        "      return palindroma(palabra[1:-1])\n",
        "    else:\n",
        "      return False\n",
        "\n",
        "ora = input(\"Ingrese una oración: \")\n",
        "junto = ora.replace(' ', '')\n",
        "final = junto.lower()\n",
        "print(\"La oración es: \", ora)\n",
        "print(\"Sin espacios en blanco y minuscula: \", final)\n",
        "print(\"¿La oración es palindroma?: \", palindroma(final))"
      ]
    }
  ]
}