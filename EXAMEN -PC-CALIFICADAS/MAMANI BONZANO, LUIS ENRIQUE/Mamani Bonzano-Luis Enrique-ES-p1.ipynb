{
  "nbformat": 4,
  "nbformat_minor": 0,
  "metadata": {
    "colab": {
      "name": "Susti 1",
      "provenance": []
    },
    "kernelspec": {
      "name": "python3",
      "display_name": "Python 3"
    },
    "language_info": {
      "name": "python"
    }
  },
  "cells": [
    {
      "cell_type": "markdown",
      "source": [
        "Matriz nxn, n>2 e impar.\n",
        "Funcion para rotar la matriz, considerando la matriz, el orden de la matriz, las veces que rotara y la capa que rotara."
      ],
      "metadata": {
        "id": "s5FE31AWs_sM"
      }
    },
    {
      "cell_type": "code",
      "execution_count": null,
      "metadata": {
        "id": "7FErftRGsnOr"
      },
      "outputs": [],
      "source": [
        "def rotar(M, n, v, c):\n",
        "  while (c <= n/2):\n",
        "    for i in range(v):\n",
        "      if c == 1:\n",
        "        a = M[2][2]\n",
        "        M[2][2] = M[3][2]\n",
        "        M[3][2] = M[4][2]\n",
        "        M[4][2] = M[4][3]\n",
        "        M[4][3] = M[4][4]\n",
        "        M[4][4] = M[3][4]\n",
        "        M[3][4] = M[2][4]\n",
        "        M[2][4] = M[2][3]\n",
        "        M[2][3] = a\n",
        "\n",
        "n = -1\n",
        "while (n<=2) or (n%2 == 0): \n",
        "  n = int(input(\"Introduzca el orden de la matriz: \"))\n",
        "print(n)\n",
        "\n",
        "M = []\n",
        "for i in range(n):\n",
        "  M.append([0]*n)\n",
        "\n",
        "for i in range(n):\n",
        "  for j in range(n):\n",
        "    a = int(input(\"Introducir un valor: \"))\n",
        "    M[i][j] = a\n",
        "\n",
        "print(M)\n",
        "rotar(M, 5, 1, 1)"
      ]
    }
  ]
}