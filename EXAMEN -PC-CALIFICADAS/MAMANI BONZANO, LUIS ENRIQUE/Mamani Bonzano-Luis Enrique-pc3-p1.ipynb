{
  "nbformat": 4,
  "nbformat_minor": 0,
  "metadata": {
    "colab": {
      "name": "PC3-P1.ipynb",
      "provenance": [],
      "collapsed_sections": []
    },
    "kernelspec": {
      "name": "python3",
      "display_name": "Python 3"
    },
    "language_info": {
      "name": "python"
    }
  },
  "cells": [
    {
      "cell_type": "code",
      "execution_count": 11,
      "metadata": {
        "colab": {
          "base_uri": "https://localhost:8080/"
        },
        "id": "llZdvs8JWzRi",
        "outputId": "312f8eb9-47dd-484b-d692-f20502989448"
      },
      "outputs": [
        {
          "output_type": "stream",
          "name": "stdout",
          "text": [
            "Ingrese el codigo del postulante: 43243242\n",
            "Ingrese el nombre del postulante: Jose\n",
            "Ingrese el puntaje: 15.431\n",
            "Desea ingresar los datos de otro postulante (s/n): s\n",
            "Ingrese el codigo del postulante: 513t531\n",
            "Ingrese el nombre del postulante: Maria\n",
            "Ingrese el puntaje: 16.542\n",
            "Desea ingresar los datos de otro postulante (s/n): s\n",
            "Ingrese el codigo del postulante: 414215\n",
            "Ingrese el nombre del postulante: Andre\n",
            "Ingrese el puntaje: 13.435\n",
            "Desea ingresar los datos de otro postulante (s/n): n\n",
            "Listado completo de postulantes: \n",
            "43243242 Jose 15.431\n",
            "513t531 Maria 16.542\n",
            "414215 Andre 13.435\n"
          ]
        }
      ],
      "source": [
        "def cargar():\n",
        "  postulante = {}\n",
        "  continua = \"s\"\n",
        "  while continua == \"s\":\n",
        "    codigo = input(\"Ingrese el codigo del postulante: \")\n",
        "    nombre = input(\"Ingrese el nombre del postulante: \")\n",
        "    puntaje = float(input(\"Ingrese el puntaje: \"))\n",
        "    while puntaje > 20:\n",
        "      puntaje = input(\"Ingrese el puntaje: \")\n",
        "    puntaje = \"{0:.3f}\".format(puntaje)\n",
        "    postulante[codigo] = [nombre, puntaje]\n",
        "    continua = input(\"Desea ingresar los datos de otro postulante (s/n): \")\n",
        "  return postulante\n",
        "\n",
        "def imprimir(postulante):\n",
        "  print(\"Listado completo de postulantes: \")\n",
        "  for codigo in postulante:\n",
        "    print(codigo,postulante[codigo][0],postulante[codigo][1])\n",
        "\n",
        "postulante = cargar()\n",
        "imprimir(postulante)"
      ]
    }
  ]
}