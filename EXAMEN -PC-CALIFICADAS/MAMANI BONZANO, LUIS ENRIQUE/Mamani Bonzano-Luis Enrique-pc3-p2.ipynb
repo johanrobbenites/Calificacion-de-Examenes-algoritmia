{
  "nbformat": 4,
  "nbformat_minor": 0,
  "metadata": {
    "colab": {
      "name": "PC3-P2.ipynb",
      "provenance": []
    },
    "kernelspec": {
      "name": "python3",
      "display_name": "Python 3"
    },
    "language_info": {
      "name": "python"
    }
  },
  "cells": [
    {
      "cell_type": "code",
      "execution_count": null,
      "metadata": {
        "id": "VJNZgNthfw0y"
      },
      "outputs": [],
      "source": [
        "def ingresar():\n",
        "  global n\n",
        "  n = int(input(\"Coloque la cantidad de cadenas: \"))\n",
        "  cad = []\n",
        "  for i in range(n):\n",
        "    m = input(\"Ingresar una cadena: \")\n",
        "    cad.append(m)\n",
        "  return\n",
        "\n",
        "def contar(caracter):\n",
        "  for i in range(n):\n",
        "    for letra in cad[i]:\n",
        "      if letra >= \"a\" and letra <= \"z\":\n",
        "        cad[i][ord(letra)] = cad[i][ord(letra)] + 1\n",
        "\n",
        "def cantidad(caracter):\n",
        "  for i in range(n):\n",
        "    for letra in cad[i]:\n",
        "\n",
        "\n",
        "\n",
        "caracter = ingresar()\n",
        "contar(caracter)\n",
        "cantidad(caracter)"
      ]
    }
  ]
}