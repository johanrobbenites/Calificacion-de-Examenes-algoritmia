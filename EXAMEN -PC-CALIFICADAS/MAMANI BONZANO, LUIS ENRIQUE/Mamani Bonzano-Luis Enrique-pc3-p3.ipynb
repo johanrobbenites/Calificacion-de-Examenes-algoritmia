{
  "nbformat": 4,
  "nbformat_minor": 0,
  "metadata": {
    "colab": {
      "name": "PC3-P3.ipynb",
      "provenance": [],
      "collapsed_sections": []
    },
    "kernelspec": {
      "name": "python3",
      "display_name": "Python 3"
    },
    "language_info": {
      "name": "python"
    }
  },
  "cells": [
    {
      "cell_type": "code",
      "execution_count": 9,
      "metadata": {
        "colab": {
          "base_uri": "https://localhost:8080/"
        },
        "id": "6OhJC8tcpVfh",
        "outputId": "d5b62e1c-a8d9-4c3d-91f8-abec3be13838"
      },
      "outputs": [
        {
          "output_type": "stream",
          "name": "stdout",
          "text": [
            "Ingresar la cantidad de datos de una cadena: 4\n",
            "Ingrese un valor: -2\n",
            "Ingrese un valor: 32\n",
            "Ingrese un valor: -13\n",
            "Ingrese un valor: 24\n",
            "Ingresar la cantidad de datos de una cadena: 3\n",
            "Ingrese un valor: -123\n",
            "Ingrese un valor: 32\n",
            "Ingrese un valor: -2\n",
            "La UNION es =  [-123, -13, -2, 24, 32]\n",
            "La INTERSECCION es =  [-2, 32]\n"
          ]
        }
      ],
      "source": [
        "def ingreso1():\n",
        "  n = int(input(\"Ingresar la cantidad de datos de una cadena: \"))\n",
        "  A = []\n",
        "  for i in range(n):\n",
        "    r = int(input(\"Ingrese un valor: \"))\n",
        "    A.append(r)\n",
        "  A = sorted(A)\n",
        "  A = set(A)\n",
        "  return A\n",
        "def ingreso2():\n",
        "  m = int(input(\"Ingresar la cantidad de datos de una cadena: \"))\n",
        "  B = []\n",
        "  for i in range(m):\n",
        "    s = int(input(\"Ingrese un valor: \"))\n",
        "    B.append(s)\n",
        "  B = sorted(B)\n",
        "  B = set(B)\n",
        "  return B\n",
        "\n",
        "def union(A,B):\n",
        "  u = A | B\n",
        "  u = sorted(u)\n",
        "  return print(\"La UNION es = \", u)\n",
        "\n",
        "def interseccion(A,B):\n",
        "  i = A & B\n",
        "  i = sorted(i)\n",
        "  return print(\"La INTERSECCION es = \", i)\n",
        "\n",
        "def menu():\n",
        "  a = ingreso1()\n",
        "  b = ingreso2()\n",
        "  union(a,b)\n",
        "  interseccion(a,b)\n",
        "menu()"
      ]
    }
  ]
}