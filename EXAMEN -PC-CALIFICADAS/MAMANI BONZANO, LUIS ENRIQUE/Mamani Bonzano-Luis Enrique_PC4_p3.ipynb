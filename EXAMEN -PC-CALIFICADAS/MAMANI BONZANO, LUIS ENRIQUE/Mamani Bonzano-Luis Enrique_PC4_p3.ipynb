{
  "nbformat": 4,
  "nbformat_minor": 0,
  "metadata": {
    "colab": {
      "name": "PC4_p3.ipynb",
      "provenance": [],
      "collapsed_sections": []
    },
    "kernelspec": {
      "name": "python3",
      "display_name": "Python 3"
    },
    "language_info": {
      "name": "python"
    }
  },
  "cells": [
    {
      "cell_type": "markdown",
      "source": [
        "Escriba un programa que lea n números enteros y los almacene en un arreglo, luego solicite un número y mediante una función recursiva busque el número en el arreglo devolviendo la posición que aparece por primera vez. Si el número no está en el arreglo debe devolver -1."
      ],
      "metadata": {
        "id": "vxgof5YX4K5Y"
      }
    },
    {
      "cell_type": "code",
      "execution_count": 7,
      "metadata": {
        "colab": {
          "base_uri": "https://localhost:8080/"
        },
        "id": "eg9ayp303yMM",
        "outputId": "2185cd0b-d150-478c-a43a-072a5ab0143c"
      },
      "outputs": [
        {
          "output_type": "stream",
          "name": "stdout",
          "text": [
            "Introducir la cantidad de números que ingresará: 8\n",
            "Introduzca un número: 24\n",
            "Introduzca un número: 16\n",
            "Introduzca un número: 24\n",
            "Introduzca un número: 32\n",
            "Introduzca un número: 43\n",
            "Introduzca un número: 421\n",
            "Introduzca un número: 64\n",
            "Introduzca un número: 34\n",
            "[24, 16, 24, 32, 43, 421, 64, 34]\n",
            "Número a buscar: 421\n",
            "Esta en la posición:  5\n"
          ]
        }
      ],
      "source": [
        "def buscar(lista, m, x):\n",
        "  if(m == lista[x]):\n",
        "    print(\"Esta en la posición: \", x)\n",
        "  else:\n",
        "    buscar(lista, m, x+1)\n",
        "\n",
        "\n",
        "n = int(input(\"Introducir la cantidad de números que ingresará: \"))\n",
        "arreglo = []\n",
        "for i in range(n):\n",
        "  num = int(input(\"Introduzca un número: \"))\n",
        "  arreglo.append(num)\n",
        "print(arreglo)\n",
        "\n",
        "m = int(input(\"Número a buscar: \"))\n",
        "x = 0\n",
        "buscar(arreglo, m, x)"
      ]
    }
  ]
}