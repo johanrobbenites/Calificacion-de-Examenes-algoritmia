{
  "nbformat": 4,
  "nbformat_minor": 0,
  "metadata": {
    "colab": {
      "name": "PAREDES-JOHAO-PC3-P1",
      "provenance": []
    },
    "kernelspec": {
      "name": "python3",
      "display_name": "Python 3"
    },
    "language_info": {
      "name": "python"
    }
  },
  "cells": [
    {
      "cell_type": "code",
      "execution_count": 3,
      "metadata": {
        "colab": {
          "base_uri": "https://localhost:8080/"
        },
        "id": "mDChHfJ8gHt_",
        "outputId": "d2972dfc-bcef-40f4-f861-18290d509e64"
      },
      "outputs": [
        {
          "output_type": "stream",
          "name": "stdout",
          "text": [
            "Ingrese el numero de alumnos: 6\n",
            "Ingrese el código del alumno numero 1 : S1234\n",
            "Ingrese el nombre del alumno numero 1 : SOTO ALVA JUAN MANUEL \n",
            "Ingrese la nota del alumno numero 1 : 12.456\n",
            "Ingrese el código del alumno numero 2 : P4321\n",
            "Ingrese el nombre del alumno numero 2 : PERALES CAMINO JULIA SARA\n",
            "Ingrese la nota del alumno numero 2 : 15.365\n",
            "Ingrese el código del alumno numero 3 : M3782\n",
            "Ingrese el nombre del alumno numero 3 : MERINO PEREZ JAIME FERNANDO\n",
            "Ingrese la nota del alumno numero 3 : 10.345\n",
            "Ingrese el código del alumno numero 4 : Z7426\n",
            "Ingrese el nombre del alumno numero 4 : ZAVALA RECALDE LUISA ANDREA\n",
            "Ingrese la nota del alumno numero 4 : 12.456\n",
            "Ingrese el código del alumno numero 5 : V3974\n",
            "Ingrese el nombre del alumno numero 5 : VENTO MOLINA ENRIQUE ANTONIO\n",
            "Ingrese la nota del alumno numero 5 : 9.487\n",
            "Ingrese el código del alumno numero 6 : C9876\n",
            "Ingrese el nombre del alumno numero 6 : CORNEJO TORRES EDMUNDO JAVIER\n",
            "Ingrese la nota del alumno numero 6 : 10.345\n",
            "S1234 SOTO ALVA JUAN MANUEL  12.456 \n",
            "P4321 PERALES CAMINO JULIA SARA 15.365 \n",
            "M3782 MERINO PEREZ JAIME FERNANDO 10.345 \n",
            "Z7426 ZAVALA RECALDE LUISA ANDREA 12.456 \n",
            "V3974 VENTO MOLINA ENRIQUE ANTONIO 9.487 \n",
            "C9876 CORNEJO TORRES EDMUNDO JAVIER 10.345 \n",
            "-------------------------------------\n",
            "P4321 PERALES CAMINO JULIA SARA 15.365 \n",
            "S1234 SOTO ALVA JUAN MANUEL  12.456 \n",
            "Z7426 ZAVALA RECALDE LUISA ANDREA 12.456 \n",
            "M3782 MERINO PEREZ JAIME FERNANDO 10.345 \n",
            "C9876 CORNEJO TORRES EDMUNDO JAVIER 10.345 \n",
            "V3974 VENTO MOLINA ENRIQUE ANTONIO 9.487 \n"
          ]
        },
        {
          "output_type": "execute_result",
          "data": {
            "text/plain": [
              "1"
            ]
          },
          "metadata": {},
          "execution_count": 3
        }
      ],
      "source": [
        "n=int(input(\"Ingrese el numero de alumnos: \"))\n",
        "codigos=[]\n",
        "nombres=[]\n",
        "notas=[]\n",
        "for i in range(n):\n",
        "    cod=str(input(\"Ingrese el código del alumno numero \"+str(i+1)+\" : \"))\n",
        "    while(len(cod)!=5):\n",
        "        cod=str(input(\"Ingrese un código de alumno válido (5 caracteres): \"))\n",
        "    codigos.append(cod)\n",
        "\n",
        "    nombre=str(input(\"Ingrese el nombre del alumno numero \"+str(i+1)+\" : \"))\n",
        "    while(len(nombre)>50):\n",
        "        nombre=str(input(\"Nombre muy largo, ingrese de nuevo: \"))\n",
        "    nombres.append(nombre)\n",
        "\n",
        "    nota=float(input(\"Ingrese la nota del alumno numero \"+str(i+1)+\" : \"))\n",
        "    while(nota > 20 or nota < 0):\n",
        "        nota = float(input(\"Nota no puede ser mayor que 20, ingrese de nuevo\"))\n",
        "    notas.append(nota)\n",
        "\n",
        "x=[]\n",
        "#Mostramos primero los datos por primera vez\n",
        "\n",
        "for i in range(n):\n",
        "    x.append([0]*3)\n",
        "for j in range(3):\n",
        "    for i in range(n):\n",
        "        if(j==0):\n",
        "            x[i][j]=codigos[i]\n",
        "        if(j==1):\n",
        "            x[i][j]=nombres[i]\n",
        "        if(j==2):\n",
        "            x[i][j]=notas[i]\n",
        "for i in range(n):\n",
        "    for j in range(3):\n",
        "        print(x[i][j],end=\" \")\n",
        "    print()\n",
        "\n",
        "for i in range(1,len(notas)):\n",
        "    for j in range(len(notas)-i):\n",
        "        if(notas[j]<notas[j+1]):\n",
        "            aux=notas[j]\n",
        "            notas[j]=notas[j+1]\n",
        "            notas[j+1]=aux\n",
        "            aux1=codigos[j]\n",
        "            codigos[j]=codigos[j+1]\n",
        "            codigos[j+1]=aux1\n",
        "            aux2=nombres[j]\n",
        "            nombres[j]=nombres[j+1]\n",
        "            nombres[j+1]=aux2\n",
        "\n",
        "\n",
        "for j in range(3):\n",
        "    for i in range(n):\n",
        "        if(j==0):\n",
        "            x[i][j]=codigos[i]\n",
        "        if(j==1):\n",
        "            x[i][j]=nombres[i]\n",
        "        if(j==2):\n",
        "            x[i][j]=notas[i]\n",
        "\n",
        "#posicion = [0]*len(nombres)\n",
        "#for i in range(0, len(nombres)-1):\n",
        " #   if posicion[i]==0:\n",
        "  #      if notas[i] != notas[i+1] and :\n",
        "     #       posicion[i] = []\n",
        "print(\"-------------------------------------\")\n",
        "\n",
        "for i in range(n):\n",
        "    for j in range(3):\n",
        "        print(x[i][j],end=\" \")\n",
        "    print()\n",
        "\n"
      ]
    }
  ]
}