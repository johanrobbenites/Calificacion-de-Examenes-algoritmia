{
  "nbformat": 4,
  "nbformat_minor": 0,
  "metadata": {
    "colab": {
      "name": "PAREDES-JOHAO-PC3-P2",
      "provenance": []
    },
    "kernelspec": {
      "name": "python3",
      "display_name": "Python 3"
    },
    "language_info": {
      "name": "python"
    }
  },
  "cells": [
    {
      "cell_type": "code",
      "execution_count": 1,
      "metadata": {
        "colab": {
          "base_uri": "https://localhost:8080/"
        },
        "id": "3wPR3N0Ch9rl",
        "outputId": "f416730d-8590-445d-e384-904bad9015df"
      },
      "outputs": [
        {
          "output_type": "stream",
          "name": "stdout",
          "text": [
            "Ingrese el número de cadenas: 4\n",
            "Ingrese cadena número 1: Hola María ¿cómo estás?\n",
            "Ingrese cadena número 2: Juan Mora\n",
            "Ingrese cadena número 3: Python o Ruby?\n",
            "Ingrese cadena número 4: Aprobé SI205\n",
            "a 5 *****\n",
            "b 2 **\n",
            "c 1 *\n",
            "e 1 *\n",
            "h 1 *\n",
            "l 1 *\n",
            "m 1 *\n",
            "n 2 **\n",
            "o 6 ******\n",
            "p 1 *\n",
            "r 3 ***\n",
            "s 2 **\n",
            "t 2 **\n",
            "u 2 **\n",
            "y 2 **\n"
          ]
        }
      ],
      "source": [
        "import string\n",
        "\n",
        "n=int(input(\"Ingrese el número de cadenas: \"))\n",
        "cadenas = []\n",
        "for i in range(n):\n",
        "    cadena = str(input(\"Ingrese cadena número \"+ str(i+1) + \": \"))\n",
        "    while(len(cadena)>50):\n",
        "        cadena=str(input(\"Cadena muy larga, ingrese de nuevo: \"))\n",
        "    cadenas.append(cadena)\n",
        "\n",
        "abc = string.ascii_lowercase\n",
        "\n",
        "#filtro\n",
        "filtrado = \"\"\n",
        "for i in range(len(cadenas)):\n",
        "    for c in cadenas[i]:\n",
        "        if c in abc:\n",
        "            filtrado += c\n",
        "\n",
        "for c in abc:\n",
        "    conteo = filtrado.count(c)\n",
        "    if conteo > 0:\n",
        "        print(c,end=\" \")\n",
        "        print(conteo, end=\" \")\n",
        "        print(\"*\"*conteo)\n"
      ]
    }
  ]
}