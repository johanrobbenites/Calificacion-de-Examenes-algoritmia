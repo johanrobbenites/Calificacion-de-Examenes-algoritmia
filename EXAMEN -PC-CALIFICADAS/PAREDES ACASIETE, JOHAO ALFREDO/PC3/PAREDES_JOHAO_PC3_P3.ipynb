{
  "nbformat": 4,
  "nbformat_minor": 0,
  "metadata": {
    "colab": {
      "name": "PAREDES-JOHAO-PC3-P3",
      "provenance": []
    },
    "kernelspec": {
      "name": "python3",
      "display_name": "Python 3"
    },
    "language_info": {
      "name": "python"
    }
  },
  "cells": [
    {
      "cell_type": "code",
      "execution_count": 1,
      "metadata": {
        "colab": {
          "base_uri": "https://localhost:8080/"
        },
        "id": "gn6EjaYAvh_n",
        "outputId": "809f3103-b577-4edd-bde6-25be708f3f72"
      },
      "outputs": [
        {
          "output_type": "stream",
          "name": "stdout",
          "text": [
            "A = {-41; -2; 0; 1; 123}\n",
            "B = {-3; -2; 1; 2}\n",
            "UNION = {-41; -3; -2; 0; 1; 2; 123}\n",
            "INTERSECCION = {-2; 1}\n"
          ]
        }
      ],
      "source": [
        "A = str(input(\"A = \"))\n",
        "B = str(input(\"B = \"))\n",
        "\n",
        "A = A.replace(\"{\",\"\").replace(\"}\",\"\").replace(\" \",\"\")\n",
        "#print(A)\n",
        "listaA = [int(x) for x in A.split(\";\")]\n",
        "\n",
        "B = B.replace(\"{\",\"\").replace(\"}\",\"\").replace(\" \",\"\")\n",
        "#print(B)\n",
        "listaB = [int(x) for x in B.split(\";\")]\n",
        "\n",
        "union = []\n",
        "for i in listaA:\n",
        "    if i not in listaB:\n",
        "        union.append(i)\n",
        "for i in listaB:\n",
        "    if i not in listaA:\n",
        "        union.append(i)\n",
        "\n",
        "interseccion = []\n",
        "for i in listaA:\n",
        "    if i in listaB:\n",
        "        union.append(i)\n",
        "        interseccion.append(i)\n",
        "\n",
        "union = sorted(union)\n",
        "interseccion = sorted(interseccion)\n",
        "\n",
        "#setA = set(listaA)\n",
        "#setB = set(listaB)\n",
        "#union = sorted(setA|setB)\n",
        "#interseccion = sorted(setA&setB)\n",
        "\n",
        "sUnion = \"\"\n",
        "for i in union:\n",
        "    sUnion = sUnion + \" \" + str(i) + \";\"\n",
        "sUnion = \"{\"+sUnion[1:-1]+\"}\"\n",
        "print(\"UNION = \" + sUnion)\n",
        "\n",
        "sInterseccion = \"\"\n",
        "for i in interseccion:\n",
        "    sInterseccion = sInterseccion + \" \"+ (str(i) + \";\")\n",
        "sInterseccion = \"{\"+sInterseccion[1:-1]+\"}\"\n",
        "print(\"INTERSECCION = \" + sInterseccion)"
      ]
    }
  ]
}