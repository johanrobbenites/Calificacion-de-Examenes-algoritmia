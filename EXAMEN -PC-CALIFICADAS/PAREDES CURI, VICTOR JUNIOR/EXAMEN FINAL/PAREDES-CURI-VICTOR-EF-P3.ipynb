{
  "nbformat": 4,
  "nbformat_minor": 0,
  "metadata": {
    "colab": {
      "name": "Untitled9.ipynb",
      "provenance": []
    },
    "kernelspec": {
      "name": "python3",
      "display_name": "Python 3"
    },
    "language_info": {
      "name": "python"
    }
  },
  "cells": [
    {
      "cell_type": "code",
      "execution_count": 23,
      "metadata": {
        "colab": {
          "base_uri": "https://localhost:8080/"
        },
        "id": "sh7FdcL85shq",
        "outputId": "79d7f5d6-a70d-4fc1-9ea1-1193232c4fba"
      },
      "outputs": [
        {
          "output_type": "stream",
          "name": "stdout",
          "text": [
            "Ingrese el texto: yo hago yoga\n",
            "El texto no es palíndromo\n",
            "yohagoyoga\n"
          ]
        }
      ],
      "source": [
        "def palindromo_recursivo(cadena, inicio, fin):\n",
        "    if inicio >= fin:\n",
        "        return True\n",
        "    if cadena[inicio] == cadena[fin]:\n",
        "        return palindromo_recursivo(cadena, inicio+1, fin-1)\n",
        "    else:\n",
        "        return False\n",
        "def remover_caracteres_especiales(cadena):\n",
        "    cadena = cadena.lower()\n",
        "    cadena = cadena.replace(\" \", \"\")\n",
        "    cadena = cadena.replace(\"á\", \"a\")\n",
        "    cadena = cadena.replace(\"é\", \"e\")\n",
        "    cadena = cadena.replace(\"í\", \"i\")\n",
        "    cadena = cadena.replace(\"ó\", \"o\")\n",
        "    cadena = cadena.replace(\"ú\", \"u\")\n",
        "    return cadena\n",
        "def remover_espacio(cadena):\n",
        "    return cadena.replace(' ', '')\n",
        "cadena = input(\"Ingrese el texto: \")\n",
        "cadena_limpia = remover_caracteres_especiales(cadena)\n",
        "es_palindromo = palindromo(cadena_limpia)\n",
        "if es_palindromo:\n",
        "    print(\"El texto es palíndromo\")\n",
        "else:\n",
        "    print(\"El texto no es palíndromo\")\n",
        "print(remover_espacio(cadena))"
      ]
    }
  ]
}