{
  "nbformat": 4,
  "nbformat_minor": 0,
  "metadata": {
    "colab": {
      "name": "PAREDES_CURI_VICTOR_ES_P3 .ipynb",
      "provenance": []
    },
    "kernelspec": {
      "name": "python3",
      "display_name": "Python 3"
    },
    "language_info": {
      "name": "python"
    }
  },
  "cells": [
    {
      "cell_type": "code",
      "execution_count": 1,
      "metadata": {
        "colab": {
          "base_uri": "https://localhost:8080/"
        },
        "id": "2pFdnefgvimA",
        "outputId": "c0966e23-64b8-422d-e16a-ae17c3aa30e9"
      },
      "outputs": [
        {
          "output_type": "stream",
          "name": "stdout",
          "text": [
            "Ingrese una oracion: tRes TRistes TigRes CoMEN Trigo En Un TriGal\n",
            "Ingrese la palabra que desea verificar: Tr\n",
            "la palabra ingresada se repite  4 veces\n"
          ]
        }
      ],
      "source": [
        "#\n",
        "v = input(\"Ingrese una oracion: \")\n",
        "s = v.lower()\n",
        "p = input(\"Ingrese la palabra que desea verificar: \")\n",
        "d = p.lower()\n",
        "print(\"la palabra ingresada se repite \",s.count(d), \"veces\" )"
      ]
    }
  ]
}