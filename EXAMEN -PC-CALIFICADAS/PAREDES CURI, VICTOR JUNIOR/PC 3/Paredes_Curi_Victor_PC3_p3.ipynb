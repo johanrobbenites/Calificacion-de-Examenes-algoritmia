{
  "nbformat": 4,
  "nbformat_minor": 0,
  "metadata": {
    "colab": {
      "name": "Paredes-Curi-Victor-PC3-p3",
      "provenance": []
    },
    "kernelspec": {
      "name": "python3",
      "display_name": "Python 3"
    },
    "language_info": {
      "name": "python"
    }
  },
  "cells": [
    {
      "cell_type": "code",
      "execution_count": 32,
      "metadata": {
        "colab": {
          "base_uri": "https://localhost:8080/"
        },
        "id": "m9YXrTWVk8oo",
        "outputId": "91e9d43d-fa8a-42b3-de63-f980610ea6a2"
      },
      "outputs": [
        {
          "output_type": "stream",
          "name": "stdout",
          "text": [
            "Ingrese la cantidad de valores de A: 5\n",
            "Ingrese la cantidad de valores de B: 4\n",
            "Ingrese los datos de A: 1\n",
            "Ingrese los datos de A: 2\n",
            "Ingrese los datos de A: 9\n",
            "Ingrese los datos de A: 7\n",
            "Ingrese los datos de A: 2\n",
            "Ingrese los datos de B: 1\n",
            "Ingrese los datos de B: 6\n",
            "Ingrese los datos de B: 4\n",
            "Ingrese los datos de B: 9\n",
            "La unión de los conjuntos es:  {'7', '1', '9', '4', '6', '2'}\n",
            "La interseccion de los conjuntos es:  {'1', '9'}\n"
          ]
        }
      ],
      "source": [
        "#\n",
        "cad1 = []\n",
        "cad2 = []\n",
        "n = int(input(\"Ingrese la cantidad de valores de A: \"))\n",
        "m = int(input(\"Ingrese la cantidad de valores de B: \"))\n",
        "for i in range(n):\n",
        "  x=input(\"Ingrese los datos de A: \")\n",
        "  cad1.append(x)\n",
        "for j in range(m):\n",
        "  y=input(\"Ingrese los datos de B: \")\n",
        "  cad2.append(y)  \n",
        "cad3 = set(cad1)|set(cad2)\n",
        "cad4 = set(cad1) & set(cad2)\n",
        "print(\"La unión de los conjuntos es: \",set(cad3))\n",
        "print(\"La interseccion de los conjuntos es: \", set(cad4))"
      ]
    }
  ]
}