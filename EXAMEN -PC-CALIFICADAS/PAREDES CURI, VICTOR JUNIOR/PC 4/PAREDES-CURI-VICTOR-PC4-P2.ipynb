{
  "nbformat": 4,
  "nbformat_minor": 0,
  "metadata": {
    "colab": {
      "name": "Untitled35.ipynb",
      "provenance": [],
      "collapsed_sections": []
    },
    "kernelspec": {
      "name": "python3",
      "display_name": "Python 3"
    },
    "language_info": {
      "name": "python"
    }
  },
  "cells": [
    {
      "cell_type": "code",
      "execution_count": 21,
      "metadata": {
        "colab": {
          "base_uri": "https://localhost:8080/"
        },
        "id": "I4yMEaZcxRe7",
        "outputId": "7ed1b5e9-358e-4301-b5cd-4c4b29ca4f04"
      },
      "outputs": [
        {
          "name": "stdout",
          "output_type": "stream",
          "text": [
            "Introduce tu curso: CB101\n",
            "Introduce tu codigo: 111\n",
            "Introduce tu promedio: 6,8\n",
            "Introduce tu curso: CB101\n",
            "Introduce tu codigo: 222\n",
            "Introduce tu promedio: 11\n",
            "Introduce tu curso: SI205\n",
            "Introduce tu codigo: 111\n",
            "Introduce tu promedio: 13,4\n",
            "Introduce tu curso: SI205\n",
            "Introduce tu codigo: 333\n",
            "Introduce tu promedio: 8,9\n",
            "Introduce tu curso: ST221\n",
            "Introduce tu codigo: 222\n",
            "Introduce tu promedio: 11,3\n"
          ]
        }
      ],
      "source": [
        "#\n",
        "archivo = open(\"Alumnos.txt\",\"w\")\n",
        "curso1 = input(\"Introduce tu curso: \")\n",
        "archivo.write(curso1 + '\\n')\n",
        "codigo1 = float(input(\"Introduce tu codigo: \"))\n",
        "archivo.write('codigo del primero alumno= % s'%codigo1+'\\n')\n",
        "promedio1 = input(\"Introduce tu promedio: \")\n",
        "archivo.write('promedio del primer alumno: % s' %promedio1+'\\n')\n",
        "curso2 = input(\"Introduce tu curso: \")\n",
        "archivo.write(curso2 + '\\n')\n",
        "codigo2 = float(input(\"Introduce tu codigo: \"))\n",
        "archivo.write('codigo del segundo alumno= % s'%codigo2+'\\n')\n",
        "promedio2 = input(\"Introduce tu promedio: \")\n",
        "archivo.write('promedio del segundo alumno: % s' %promedio2+'\\n')\n",
        "curso3 = input(\"Introduce tu curso: \")\n",
        "archivo.write(curso3 + '\\n')\n",
        "codigo3 = float(input(\"Introduce tu codigo: \"))\n",
        "archivo.write('codigo del tercer alumno= % s'%codigo3+'\\n')\n",
        "promedio3 = input(\"Introduce tu promedio: \")\n",
        "archivo.write('promedio del tercer alumno: % s' %promedio3+'\\n')\n",
        "curso4 = input(\"Introduce tu curso: \")\n",
        "archivo.write(curso4 + '\\n')\n",
        "codigo1 = float(input(\"Introduce tu codigo: \"))\n",
        "archivo.write('codigo del cuarto alumno= % s'%codigo4+'\\n')\n",
        "promedio4 = input(\"Introduce tu promedio: \")\n",
        "archivo.write('promedio del cuarto alumno: % s' %promedio4+'\\n')\n",
        "curso5 = input(\"Introduce tu curso: \")\n",
        "archivo.write(curso5 + '\\n')\n",
        "codigo5 = float(input(\"Introduce tu codigo: \"))\n",
        "archivo.write('codigo del quinto alumno= % s'%codigo5+'\\n'  )\n",
        "promedio5 = input(\"Introduce tu promedio: \")\n",
        "archivo.write('promedio del quinto alumno: % s' %promedio5+'\\n')\n",
        "archivo.close()"
      ]
    }
  ]
}