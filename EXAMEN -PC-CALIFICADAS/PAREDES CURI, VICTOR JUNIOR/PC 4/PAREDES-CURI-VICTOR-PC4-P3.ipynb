{
  "nbformat": 4,
  "nbformat_minor": 0,
  "metadata": {
    "colab": {
      "name": "Untitled37.ipynb",
      "provenance": []
    },
    "kernelspec": {
      "name": "python3",
      "display_name": "Python 3"
    },
    "language_info": {
      "name": "python"
    }
  },
  "cells": [
    {
      "cell_type": "code",
      "execution_count": 7,
      "metadata": {
        "colab": {
          "base_uri": "https://localhost:8080/"
        },
        "id": "Z51VLLN5gsIB",
        "outputId": "a0dd8539-7a7c-47a1-b778-47b2e52221c5"
      },
      "outputs": [
        {
          "output_type": "stream",
          "name": "stdout",
          "text": [
            "Ingrese la cantidad de numeros que desee: 4\n",
            "Ingrese al arreglo el 1º numero: 8\n",
            "Ingrese al arreglo el 2º numero: 4\n",
            "Ingrese al arreglo el 3º numero: 1\n",
            "Ingrese al arreglo el 4º numero: 6\n",
            "[8, 4, 1, 6]\n",
            "INGRESE EL NUMERO QUE SE DESEA ENCONTRAR EN EL ARREGLO: 8\n",
            "El numero esta en la posicion: 0\n"
          ]
        }
      ],
      "source": [
        "#\n",
        "b= int(input(\"Ingrese la cantidad de numeros que desee: \"))\n",
        "cantidad=[0]*b\n",
        "for i in range(b):\n",
        "    cantidad[i]= int(input(f\"Ingrese al arreglo el {i+1}º numero: \"))\n",
        "print(cantidad)\n",
        "def encontrar_numero(a,b,i,c):\n",
        "    if a[i]==b:\n",
        "        return i\n",
        "    elif i>c:\n",
        "        return -1    \n",
        "    i=i+1\n",
        "    encontrar_numero(a,b,i,c)   \n",
        "    \n",
        "numero=int(input(\"INGRESE EL NUMERO QUE SE DESEA ENCONTRAR EN EL ARREGLO: \"))\n",
        "i=0\n",
        "final=(encontrar_numero(cantidad,numero,i,b))\n",
        "print(\"El numero esta en la posicion:\", final)"
      ]
    }
  ]
}