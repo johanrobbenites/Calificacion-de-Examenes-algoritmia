{
  "nbformat": 4,
  "nbformat_minor": 0,
  "metadata": {
    "colab": {
      "name": "QUISPE - ALFREDO - EF - P2.ipynb",
      "provenance": []
    },
    "kernelspec": {
      "name": "python3",
      "display_name": "Python 3"
    },
    "language_info": {
      "name": "python"
    }
  },
  "cells": [
    {
      "cell_type": "code",
      "execution_count": 26,
      "metadata": {
        "colab": {
          "base_uri": "https://localhost:8080/"
        },
        "id": "33bLlgz_lPB-",
        "outputId": "75820637-870f-41c5-cbef-6332779dce7d"
      },
      "outputs": [
        {
          "name": "stdout",
          "output_type": "stream",
          "text": [
            "Cuantos vendedores (n>10): 11\n",
            "Monto vendido: 1324.2\n",
            "Nombre del vendedor 1: Carlos\n",
            "Monto vendido: 4346.1\n",
            "Nombre del vendedor 2: Maria\n",
            "Monto vendido: 3468.3\n",
            "Nombre del vendedor 3: Pedro\n",
            "Monto vendido: 2154.5\n",
            "Nombre del vendedor 4: Juan\n",
            "Monto vendido: 1349.6\n",
            "Nombre del vendedor 5: Pepe\n",
            "Monto vendido: 1349.5\n",
            "Nombre del vendedor 6: Mario\n",
            "Monto vendido: 1485.5\n",
            "Nombre del vendedor 7: Dario\n",
            "Monto vendido: 1311.4\n",
            "Nombre del vendedor 8: Jose\n",
            "Monto vendido: 1478.2\n",
            "Nombre del vendedor 9: Martin\n",
            "Monto vendido: 1345.4\n",
            "Nombre del vendedor 10: Aldo\n",
            "Monto vendido: 1347.2\n",
            "Nombre del vendedor 11: Sofia\n"
          ]
        }
      ],
      "source": [
        "arch = open(\"vendedores.txt\",'w')\n",
        "n = int(input('Cuantos vendedores (n>10): '))\n",
        "if n > 10:\n",
        "  for i in range(n):\n",
        "    mont = float(input(\"Monto vendido: \"))\n",
        "    nomb = input(f'Nombre del vendedor {i+1}: ')\n",
        "    linea = str(mont) + ',' + nomb + '\\n'\n",
        "arch.write(linea)\n",
        "arch.close()"
      ]
    },
    {
      "cell_type": "code",
      "source": [
        "f = open(\"vendedores.txt\",\"r\")\n",
        "for i in f:\n",
        "  reg = i.split()\n",
        "  print('---',reg)\n",
        "  a = sorted(reg)\n",
        "  print(a)"
      ],
      "metadata": {
        "colab": {
          "base_uri": "https://localhost:8080/"
        },
        "id": "CYuXopLn2j1l",
        "outputId": "6658758f-6bdb-43b6-f450-3a20982be95a"
      },
      "execution_count": 29,
      "outputs": [
        {
          "output_type": "stream",
          "name": "stdout",
          "text": [
            "--- ['1347.2,Sofia']\n",
            "['1347.2,Sofia']\n",
            "1347.2,Sofia\n",
            "\n"
          ]
        }
      ]
    }
  ]
}