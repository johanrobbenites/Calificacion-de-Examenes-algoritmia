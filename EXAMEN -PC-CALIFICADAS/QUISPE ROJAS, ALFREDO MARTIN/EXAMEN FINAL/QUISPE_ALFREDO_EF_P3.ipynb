{
  "nbformat": 4,
  "nbformat_minor": 0,
  "metadata": {
    "colab": {
      "name": "QUISPE-ALFREDO-EF-P3.ipynb",
      "provenance": []
    },
    "kernelspec": {
      "name": "python3",
      "display_name": "Python 3"
    },
    "language_info": {
      "name": "python"
    }
  },
  "cells": [
    {
      "cell_type": "code",
      "execution_count": 16,
      "metadata": {
        "colab": {
          "base_uri": "https://localhost:8080/"
        },
        "id": "N7DztWdm5rJR",
        "outputId": "49d58688-cd99-43fe-c192-8b22aed373ae"
      },
      "outputs": [
        {
          "output_type": "stream",
          "name": "stdout",
          "text": [
            "Introduce una cadena: yohagoyogahoy\n",
            "Es un palindromo\n"
          ]
        }
      ],
      "source": [
        "# Construye un programa que reciba una oración y determine si la oración es un palíndromo. \n",
        "# Una oración es palíndroma si al invertirla, sin considerar los espacios en blanco y considerando\n",
        "# todo en mayúsculas y minúsculas, da la misma oración. Debe utilizar una función recursiva para\n",
        "# invertir la oración sin espacios en blanco.\n",
        "cad = input(\"Ingrese la cadena: \")\n",
        "def eliminar_espacios(Cadena):\n",
        "  Cadenaresultante = \"\"\n",
        "  for i in range(len(Cadena)):\n",
        "    if Cadena[i-1:i]!=\" \":\n",
        "      Cadenaresultante = Cadenaresultante+Cadena[i-1:i]\n",
        "    else:\n",
        "      if Cadena[i-2:i-1]!=\" \":\n",
        "        Cadenaresultante = Cadenaresultante+Cadena[i-1:i]\n",
        "        return (Cadenaresultante)\n",
        "z = eliminar_espacios(cad)\n",
        "if z.lower() == z[::-1].lower():\n",
        "  print(\"Es un palindromo\")\n",
        "else:\n",
        "  print(\"No es un palindromo\")\n"
      ]
    }
  ]
}