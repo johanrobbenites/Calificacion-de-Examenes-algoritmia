{
  "nbformat": 4,
  "nbformat_minor": 0,
  "metadata": {
    "colab": {
      "name": "QUISPE-ALFREDO-EP-P2.ipynb",
      "provenance": []
    },
    "kernelspec": {
      "name": "python3",
      "display_name": "Python 3"
    },
    "language_info": {
      "name": "python"
    }
  },
  "cells": [
    {
      "cell_type": "code",
      "source": [
        "n = int(input(\"INGRESE EL NÚMERO: \"))\n",
        "for base in range(2, 10):\n",
        "  print(f\"EL NÚMERO EN BASE {base} ES:\")\n",
        "  b=0\n",
        "  cont=1\n",
        "  while(base <= n):\n",
        "    a = n % base\n",
        "    n //=base\n",
        "    b = b + a*cont\n",
        "    cont = cont * 10\n",
        "    print(b)\n",
        "  if(n<b):\n",
        "    b = b + n*cont\n",
        "    print(b)\n",
        "\n",
        "\n",
        "# CAPICUA\n",
        "m = b\n",
        "P3 = b % 10\n",
        "b = b // 10\n",
        "P2 = b % 10\n",
        "b = b // 10\n",
        "P1 = b % 10\n",
        "if P1 == P3:\n",
        "  print(\"EL NÚMERO\", m, \"ES CAPICÚA\")\n"
      ],
      "metadata": {
        "colab": {
          "base_uri": "https://localhost:8080/"
        },
        "id": "bgwqXOL9bz8v",
        "outputId": "e02dab80-dd98-4c81-8181-1957e814b1e1"
      },
      "execution_count": 64,
      "outputs": [
        {
          "output_type": "stream",
          "name": "stdout",
          "text": [
            "INGRESE EL NÚMERO: 25\n",
            "EL NÚMERO EN BASE 2 ES:\n",
            "1\n",
            "1\n",
            "1\n",
            "1001\n",
            "11001\n",
            "EL NÚMERO EN BASE 3 ES:\n",
            "EL NÚMERO EN BASE 4 ES:\n",
            "EL NÚMERO EN BASE 5 ES:\n",
            "EL NÚMERO EN BASE 6 ES:\n",
            "EL NÚMERO EN BASE 7 ES:\n",
            "EL NÚMERO EN BASE 8 ES:\n",
            "EL NÚMERO EN BASE 9 ES:\n",
            "EL NÚMERO 0 ES CAPICÚA\n"
          ]
        }
      ]
    }
  ]
}