{
  "nbformat": 4,
  "nbformat_minor": 0,
  "metadata": {
    "colab": {
      "name": "QUISPE-ALFREDO-EP-P3.ipynb",
      "provenance": []
    },
    "kernelspec": {
      "name": "python3",
      "display_name": "Python 3"
    },
    "language_info": {
      "name": "python"
    }
  },
  "cells": [
    {
      "cell_type": "code",
      "source": [
        "matriz = [\n",
        "          [1, 2],\n",
        "          [2, 3],\n",
        "          [3, 4],\n",
        "]\n",
        "print(matriz)\n",
        "def rotar_matriz(matriz):\n",
        "  girada = []\n",
        "  for i in range(len(matriz[0])):\n",
        "    girada.append([])\n",
        "    for j in range(len(matriz)):\n",
        "      girada[i].append(matriz[len(matriz)-1-j][i])\n",
        "  return girada\n",
        "\n",
        "print(\"-------------\")\n",
        "girada_2 = rotar_matriz(matriz)\n",
        "for fila in girada_2:\n",
        "  for e in fila:\n",
        "    print(e, end=\" \")\n",
        "  print()\n",
        "\n",
        "print(\"-------------\")\n",
        "girada_3 = rotar_matriz(girada_2)\n",
        "for fila in girada_3:\n",
        "  for e in fila:\n",
        "    print(e, end=\" \")\n",
        "  print()\n",
        "\n",
        "print(\"-------------\")\n",
        "girada_4 = rotar_matriz(girada_3)\n",
        "for fila in girada_4:\n",
        "  for e in fila:\n",
        "    print(e, end=\" \")\n",
        "  print()\n"
      ],
      "metadata": {
        "colab": {
          "base_uri": "https://localhost:8080/"
        },
        "id": "9kgy5Z2Vp5HJ",
        "outputId": "6491e215-4522-4a0d-83c5-4622b8e38621"
      },
      "execution_count": 8,
      "outputs": [
        {
          "output_type": "stream",
          "name": "stdout",
          "text": [
            "[[1, 2], [2, 3], [3, 4]]\n",
            "-------------\n",
            "3 2 1 \n",
            "4 3 2 \n",
            "-------------\n",
            "4 3 \n",
            "3 2 \n",
            "2 1 \n",
            "-------------\n",
            "2 3 4 \n",
            "1 2 3 \n"
          ]
        }
      ]
    }
  ]
}