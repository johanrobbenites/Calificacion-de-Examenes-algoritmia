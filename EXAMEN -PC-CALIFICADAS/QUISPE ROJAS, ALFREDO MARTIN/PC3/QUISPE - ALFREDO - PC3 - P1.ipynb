{
  "nbformat": 4,
  "nbformat_minor": 0,
  "metadata": {
    "colab": {
      "name": "Untitled21.ipynb",
      "provenance": []
    },
    "kernelspec": {
      "name": "python3",
      "display_name": "Python 3"
    },
    "language_info": {
      "name": "python"
    }
  },
  "cells": [
    {
      "cell_type": "code",
      "execution_count": 18,
      "metadata": {
        "colab": {
          "base_uri": "https://localhost:8080/"
        },
        "id": "PJLu3nOFWesM",
        "outputId": "6c13d4e0-55f5-46df-8979-30a86f330176"
      },
      "outputs": [
        {
          "output_type": "stream",
          "name": "stdout",
          "text": [
            "Ingrese el número de postulantes: 1\n",
            "Ingrese el codigo del postulante: S1234\n",
            "Ingrese el nombre del postulante: Soto Alva Juan Manuel\n",
            "Ingrese el puntaje del postulante: 12.456\n",
            "\n",
            "S1234 Soto Alva Juan Manuel 12.456\n",
            "\n"
          ]
        }
      ],
      "source": [
        "\"\"\"\n",
        "Escriba un programa que lea los datos de n postulantes y por cada uno lea su \n",
        "código (alfanumérico de 5 caracteres), su nombre (cadena de hasta 50 caracteres)\n",
        "y su puntaje (número real no mayor de 20 y con máximo de 3 decimales). Luego \n",
        "determine el orden de mérito según el puntaje. Considere que si 2 o más \n",
        "postulantes empatan en puntaje tienen el mismo orden de mérito.\n",
        "\"\"\"\n",
        "\n",
        "puntajes = []\n",
        "\n",
        "def contar_caracteres(cadena):\n",
        "  contador = 0\n",
        "  while cadena[contador:]:\n",
        "    contador +=1\n",
        "  return contador\n",
        "\n",
        "n = int(input(\"Ingrese el número de postulantes: \"))\n",
        "for x in range(n):\n",
        "  codigo = input(\"Ingrese el codigo del postulante: \")\n",
        "  if len(codigo) > 5:\n",
        "    print(\" --- EL CÓDIGO DEBE TENER 5 CARACTERES --- \")\n",
        "    break\n",
        "  nombre = input(\"Ingrese el nombre del postulante: \")\n",
        "  if contar_caracteres(nombre) > 50:\n",
        "    print(\" --- SOLO SE ACEPTAN 50 CARACTERES --- \")\n",
        "    break\n",
        "  puntaje = float(input(\"Ingrese el puntaje del postulante: \"))\n",
        "  if puntaje > 20:\n",
        "    print(\" --- EL PUNTAJE DEBE SER MENOR QUE 20 --- \")\n",
        "    break\n",
        "  puntajes.append(puntaje)\n",
        "print(\"\"\"\n",
        "%s %s %.3f\n",
        "\"\"\" %(codigo, nombre, puntaje))\n",
        "\n",
        "for i in range(0,n):\n",
        "  for j in range(i+1,n):\n",
        "    if puntajes[i] > puntajes[j]:\n",
        "      t = puntajes[i]\n",
        "      puntajes[i] = puntajes[j]\n",
        "      puntajes[j] = t\n"
      ]
    }
  ]
}