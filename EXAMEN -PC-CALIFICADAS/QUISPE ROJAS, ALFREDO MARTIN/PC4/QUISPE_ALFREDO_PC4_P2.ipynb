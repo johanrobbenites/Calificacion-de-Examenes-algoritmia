{
  "nbformat": 4,
  "nbformat_minor": 0,
  "metadata": {
    "colab": {
      "name": "QUISPE - ALFREDO - PC4 - P2",
      "provenance": []
    },
    "kernelspec": {
      "name": "python3",
      "display_name": "Python 3"
    },
    "language_info": {
      "name": "python"
    }
  },
  "cells": [
    {
      "cell_type": "code",
      "source": [
        "arch = open('alumnos.txt','a')\n",
        "n = int(input('Numero de alumnos: '))\n",
        "for i in range(n):\n",
        "  cod_alum = input(f'CODIGO ALUMNO {i+1}: ')\n",
        "for i in range(n):\n",
        "  cod_cur = input(f'CODIGO CURSO {i+1}: ')\n",
        "for i in range(n):\n",
        "  prom = input(f'PROMEDIO {i+1}: ')\n",
        "arch.write(cod_alum)\n",
        "arch.write(cod_cur)\n",
        "arch.write(prom)"
      ],
      "metadata": {
        "colab": {
          "base_uri": "https://localhost:8080/"
        },
        "id": "_B29PkP1y1Jx",
        "outputId": "9b6671e6-c9df-4dfc-a875-31634cf4db72"
      },
      "execution_count": 6,
      "outputs": [
        {
          "name": "stdout",
          "output_type": "stream",
          "text": [
            "Numero de alumnos: 4\n",
            "CODIGO ALUMNO 1: 111\n",
            "CODIGO ALUMNO 2: 222\n",
            "CODIGO ALUMNO 3: 333\n",
            "CODIGO ALUMNO 4: 444\n",
            "CODIGO CURSO 1: FB101\n",
            "CODIGO CURSO 2: CB101\n",
            "CODIGO CURSO 3: SI201\n",
            "CODIGO CURSO 4: FB101\n",
            "PROMEDIO 1: 6.8\n",
            "PROMEDIO 2: 14.5\n",
            "PROMEDIO 3: 11.6\n",
            "PROMEDIO 4: 10.5\n"
          ]
        },
        {
          "output_type": "execute_result",
          "data": {
            "text/plain": [
              "4"
            ]
          },
          "metadata": {},
          "execution_count": 6
        }
      ]
    }
  ]
}