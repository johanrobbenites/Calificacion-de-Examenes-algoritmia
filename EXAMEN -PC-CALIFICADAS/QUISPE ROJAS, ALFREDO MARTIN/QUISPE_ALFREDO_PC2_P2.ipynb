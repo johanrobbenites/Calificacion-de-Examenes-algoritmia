{
  "nbformat": 4,
  "nbformat_minor": 0,
  "metadata": {
    "colab": {
      "name": "QUISPE-ALFREDO-PC2-P2.ipynb",
      "provenance": []
    },
    "kernelspec": {
      "name": "python3",
      "display_name": "Python 3"
    },
    "language_info": {
      "name": "python"
    }
  },
  "cells": [
    {
      "cell_type": "code",
      "execution_count": 15,
      "metadata": {
        "colab": {
          "base_uri": "https://localhost:8080/"
        },
        "id": "_sYk_is6REFJ",
        "outputId": "6b39c2d4-32b4-4b4f-a3fc-4a9b1bf62035"
      },
      "outputs": [
        {
          "output_type": "stream",
          "name": "stdout",
          "text": [
            "INGRESE CÓDIGO DEL PRODUCTO [1 al 3]: 1\n",
            "INGRESE LA CANTIDAD: 10\n",
            "INGRESE CÓDIGO EMPLEADO [1 a 4]: 1\n",
            "INGRESE CÓDIGO DEL PRODUCTO [1 al 3]: 1\n",
            "INGRESE LA CANTIDAD: 20\n",
            "INGRESE CÓDIGO EMPLEADO [1 a 4]: 1\n",
            "INGRESE CÓDIGO DEL PRODUCTO [1 al 3]: 2\n",
            "INGRESE LA CANTIDAD: 12\n",
            "INGRESE CÓDIGO EMPLEADO [1 a 4]: 2\n",
            "INGRESE CÓDIGO DEL PRODUCTO [1 al 3]: 3\n",
            "INGRESE LA CANTIDAD: 3\n",
            "INGRESE CÓDIGO EMPLEADO [1 a 4]: 2\n",
            "INGRESE CÓDIGO DEL PRODUCTO [1 al 3]: 2\n",
            "INGRESE LA CANTIDAD: 1\n",
            "INGRESE CÓDIGO EMPLEADO [1 a 4]: 0\n",
            "EMPLEADO:  1\n",
            "CÓDIGO PRODUCTO  1  : 20\n",
            "CÓDIGO PRODUCTO  2  : 12\n",
            "CÓDIGO PRODUCTO  3  : 0\n",
            "EMPLEADO:  2\n",
            "CÓDIGO PRODUCTO  1  : 0\n",
            "CÓDIGO PRODUCTO  2  : 1\n",
            "CÓDIGO PRODUCTO  3  : 3\n",
            "EMPLEADO:  3\n",
            "CÓDIGO PRODUCTO  1  : 0\n",
            "CÓDIGO PRODUCTO  2  : 0\n",
            "CÓDIGO PRODUCTO  3  : 0\n",
            "EMPLEADO:  4\n",
            "CÓDIGO PRODUCTO  1  : 0\n",
            "CÓDIGO PRODUCTO  2  : 0\n",
            "CÓDIGO PRODUCTO  3  : 0\n"
          ]
        }
      ],
      "source": [
        "v = []\n",
        "for i in range(4):\n",
        "  v.append([0] * 3)\n",
        "code = 20\n",
        "while code!= 0:\n",
        "  codp = int(input(\"INGRESE CÓDIGO DEL PRODUCTO [1 al 3]: \" ))\n",
        "  cant = int(input(\"INGRESE LA CANTIDAD: \"))\n",
        "  if(code >= 1 and code <= 4) and (codp >= 1 and codp <= 3) and cant > 0:\n",
        "    v[code-1][codp-1]=v[code-1][codp-1] + cant\n",
        "  code = int(input(\"INGRESE CÓDIGO EMPLEADO [1 a 4]: \"))\n",
        "  \n",
        "for i in range(4):\n",
        "  print(\"EMPLEADO: \", i+1)\n",
        "  for j in range(3):\n",
        "    print(\"CÓDIGO PRODUCTO \",j+1,\" :\", v[i][j])\n",
        "   \n"
      ]
    }
  ]
}