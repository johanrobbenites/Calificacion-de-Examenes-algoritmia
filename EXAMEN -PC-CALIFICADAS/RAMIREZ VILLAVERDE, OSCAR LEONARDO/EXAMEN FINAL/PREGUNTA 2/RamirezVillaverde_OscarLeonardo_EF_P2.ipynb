{
  "nbformat": 4,
  "nbformat_minor": 0,
  "metadata": {
    "colab": {
      "name": "RamirezVillaverde-OscarLeonardo-EF-P2.ipynb",
      "provenance": []
    },
    "kernelspec": {
      "name": "python3",
      "display_name": "Python 3"
    },
    "language_info": {
      "name": "python"
    }
  },
  "cells": [
    {
      "cell_type": "code",
      "execution_count": 2,
      "metadata": {
        "colab": {
          "base_uri": "https://localhost:8080/"
        },
        "id": "UOIjxOr5wcnT",
        "outputId": "2b500e24-a48b-4497-b2ef-3cf3350bfa04"
      },
      "outputs": [
        {
          "output_type": "stream",
          "name": "stdout",
          "text": [
            "Mounted at /content/drive/\n"
          ]
        }
      ],
      "source": [
        "from google.colab import drive\n",
        "drive.mount(\"/content/drive/\")"
      ]
    },
    {
      "cell_type": "code",
      "source": [
        "f = open(\"ventas.txt\",\"w\")\n",
        "n = int(input(\"Valor de n: \"))\n",
        "while n >= 10:\n",
        "  print(\"ERROR!!\")\n",
        "  n = int(input(\"Valor de n: \"))\n",
        "for i in range(n):\n",
        "  ventas = int(input(\"Ventas: \"))\n",
        "  nombre = input(\"Nombre: \")\n",
        "  linea = str(ventas)+\",\"+str(nombre)+\",\"+\"\\n\"\n",
        "  f.write(linea)\n",
        "f.close()}"
      ],
      "metadata": {
        "colab": {
          "base_uri": "https://localhost:8080/"
        },
        "id": "T3jsFh-szHBD",
        "outputId": "5f5baa7e-7f61-4155-f555-42cbb10686f0"
      },
      "execution_count": 17,
      "outputs": [
        {
          "name": "stdout",
          "output_type": "stream",
          "text": [
            "Valor de n: 4\n",
            "Ventas: 1500\n",
            "Nombre: A\n",
            "Ventas: 2000\n",
            "Nombre: B\n",
            "Ventas: 1200\n",
            "Nombre: C\n",
            "Ventas: 1300\n",
            "Nombre: D\n"
          ]
        }
      ]
    },
    {
      "cell_type": "code",
      "source": [
        "import io \n",
        "v=[]\n",
        "m=[]\n",
        "archivo = open(\"ventas.txt\",\"r\")\n",
        "\n",
        "lineas_texto=archivo.readlines()\n",
        "print(len(lineas_texto[1]))\n",
        "for i in range(len(lineas_texto)):\n",
        "    nombre=\"\"\n",
        "    ventas=\"\"\n",
        "    for x in range(lineas_texto[i].index(\"\\t\")):\n",
        "        ventas=ventas+ (lineas_texto[i])[z]\n",
        "        if x == lineas_texto[i].index(\"\\t\")-1:\n",
        "            m.append(float(ventas))\n",
        "    for j in range(lineas_texto[i].index(\"\\t\") , len(lineas_texto[i])):\n",
        "        nombre = nombre+(lineas_texto[i])[j]\n",
        "        if j == len(lineas_texto[i]) - 1:\n",
        "            v.append(nombre)\n",
        "for i in range(len(m)):\n",
        "    for j in range(len(m)):\n",
        "        if m[i]>m[j]:\n",
        "            c = m[i]\n",
        "            m[i] = m[j]\n",
        "            m[j] = c\n",
        "            a = v[i]\n",
        "            v[i] =v [j]\n",
        "            v[j] = a\n",
        "print(\"Monto Nombre  Puesto  Bono  Porcentaje\")\n",
        "for i in range(len(v)):\n",
        "    print(m[i],\"  \",v[i],\"  \",i+1,\"  \",(m[i]*(11-i))/100,\"  \",11-(i+1),\"%\")\n",
        "\n",
        "archivo.close()"
      ],
      "metadata": {
        "colab": {
          "base_uri": "https://localhost:8080/",
          "height": 252
        },
        "id": "QBCaRCMy19pf",
        "outputId": "2a3e2ed3-1ceb-4b25-c214-1ccb79f7021c"
      },
      "execution_count": 18,
      "outputs": [
        {
          "output_type": "stream",
          "name": "stdout",
          "text": [
            "8\n"
          ]
        },
        {
          "output_type": "error",
          "ename": "ValueError",
          "evalue": "ignored",
          "traceback": [
            "\u001b[0;31m---------------------------------------------------------------------------\u001b[0m",
            "\u001b[0;31mValueError\u001b[0m                                Traceback (most recent call last)",
            "\u001b[0;32m<ipython-input-18-ff05922a0927>\u001b[0m in \u001b[0;36m<module>\u001b[0;34m()\u001b[0m\n\u001b[1;32m      9\u001b[0m     \u001b[0mnombre\u001b[0m\u001b[0;34m=\u001b[0m\u001b[0;34m\"\"\u001b[0m\u001b[0;34m\u001b[0m\u001b[0;34m\u001b[0m\u001b[0m\n\u001b[1;32m     10\u001b[0m     \u001b[0mventas\u001b[0m\u001b[0;34m=\u001b[0m\u001b[0;34m\"\"\u001b[0m\u001b[0;34m\u001b[0m\u001b[0;34m\u001b[0m\u001b[0m\n\u001b[0;32m---> 11\u001b[0;31m     \u001b[0;32mfor\u001b[0m \u001b[0mz\u001b[0m \u001b[0;32min\u001b[0m \u001b[0mrange\u001b[0m\u001b[0;34m(\u001b[0m\u001b[0mlineas_texto\u001b[0m\u001b[0;34m[\u001b[0m\u001b[0mi\u001b[0m\u001b[0;34m]\u001b[0m\u001b[0;34m.\u001b[0m\u001b[0mindex\u001b[0m\u001b[0;34m(\u001b[0m\u001b[0;34m\"\\t\"\u001b[0m\u001b[0;34m)\u001b[0m\u001b[0;34m)\u001b[0m\u001b[0;34m:\u001b[0m\u001b[0;34m\u001b[0m\u001b[0;34m\u001b[0m\u001b[0m\n\u001b[0m\u001b[1;32m     12\u001b[0m         \u001b[0mventas\u001b[0m\u001b[0;34m=\u001b[0m\u001b[0mventas\u001b[0m\u001b[0;34m+\u001b[0m \u001b[0;34m(\u001b[0m\u001b[0mlineas_texto\u001b[0m\u001b[0;34m[\u001b[0m\u001b[0mi\u001b[0m\u001b[0;34m]\u001b[0m\u001b[0;34m)\u001b[0m\u001b[0;34m[\u001b[0m\u001b[0mz\u001b[0m\u001b[0;34m]\u001b[0m\u001b[0;34m\u001b[0m\u001b[0;34m\u001b[0m\u001b[0m\n\u001b[1;32m     13\u001b[0m         \u001b[0;32mif\u001b[0m \u001b[0mz\u001b[0m\u001b[0;34m==\u001b[0m\u001b[0mlineas_texto\u001b[0m\u001b[0;34m[\u001b[0m\u001b[0mi\u001b[0m\u001b[0;34m]\u001b[0m\u001b[0;34m.\u001b[0m\u001b[0mindex\u001b[0m\u001b[0;34m(\u001b[0m\u001b[0;34m\"\\t\"\u001b[0m\u001b[0;34m)\u001b[0m\u001b[0;34m-\u001b[0m\u001b[0;36m1\u001b[0m\u001b[0;34m:\u001b[0m\u001b[0;34m\u001b[0m\u001b[0;34m\u001b[0m\u001b[0m\n",
            "\u001b[0;31mValueError\u001b[0m: substring not found"
          ]
        }
      ]
    },
    {
      "cell_type": "code",
      "source": [
        ""
      ],
      "metadata": {
        "id": "02i3S3vW3ajb"
      },
      "execution_count": null,
      "outputs": []
    }
  ]
}