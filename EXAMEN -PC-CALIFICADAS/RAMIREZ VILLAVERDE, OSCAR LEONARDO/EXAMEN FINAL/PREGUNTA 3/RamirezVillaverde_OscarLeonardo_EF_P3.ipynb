{
  "nbformat": 4,
  "nbformat_minor": 0,
  "metadata": {
    "colab": {
      "name": "RamirezVillaverde-OscarLeonardo-EF-P3.ipynb",
      "provenance": []
    },
    "kernelspec": {
      "name": "python3",
      "display_name": "Python 3"
    },
    "language_info": {
      "name": "python"
    }
  },
  "cells": [
    {
      "cell_type": "code",
      "execution_count": null,
      "metadata": {
        "id": "-hMQtobt5sRz"
      },
      "outputs": [],
      "source": [
        "def palindromo(lista):\n",
        "  if lista == []:\n",
        "    inverso = lista\n",
        "  else:\n",
        "    inverso = [lista[-1]] + palindromo(lista[:-1])\n",
        "  return inverso\n",
        "oracion = input(\"Ingrese la oración:\")\n",
        "nuevo = oracion.replace(\" \", \"\")\n",
        "cadena = list(nuevo)\n",
        "invertido = palindromo(cadena)\n",
        "if cadena == invertido:\n",
        "  print(\"La oración es palíndroma.\")\n",
        "else:\n",
        "  print(\"La oración no es palíndroma.\")"
      ]
    }
  ]
}