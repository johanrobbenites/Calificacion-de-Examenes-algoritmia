{
  "nbformat": 4,
  "nbformat_minor": 0,
  "metadata": {
    "colab": {
      "name": "RamirezVillavderde-OscarLeonardo-P1-EP.ipynb",
      "provenance": []
    },
    "kernelspec": {
      "name": "python3",
      "display_name": "Python 3"
    },
    "language_info": {
      "name": "python"
    }
  },
  "cells": [
    {
      "cell_type": "code",
      "execution_count": null,
      "metadata": {
        "id": "TqeDQE6B43DB"
      },
      "outputs": [],
      "source": [
        "listac = []\n",
        "listap = []\n",
        "listat = []\n",
        "n = int(input(\"Ingrese el valor de n\"))\n",
        "while n > 30:\n",
        "  print(\"OPERACIÓN NO VÁLIDA\")\n",
        "  n = int(input(\"Ingrese el valor de n: \"))\n",
        "for i in range(n):\n",
        "  codigo = int(input(\"Ingrese código de alumno: \"))\n",
        "  listac.append(codigo)\n",
        "  peso = float(input(\"Ingrese peso de alumno: \"))\n",
        "  listap.append(peso)\n",
        "  talla = float(input(\"Ingrese talla de alumno: \"))\n",
        "  listat.append(talla)\n",
        "listapd = sort(listap(Reverse:True))\n",
        "conjunto = set(listap)\n",
        "listapnu = list(conjunto)\n",
        "if listapnu != listap:\n",
        "  listata = sort(listat)\n",
        "else:\n",
        "  listata = listat\n",
        "print(listac)\n",
        "print(listapd)\n",
        "print(listata)"
      ]
    }
  ]
}