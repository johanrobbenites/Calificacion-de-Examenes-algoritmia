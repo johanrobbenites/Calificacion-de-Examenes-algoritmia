{
  "nbformat": 4,
  "nbformat_minor": 0,
  "metadata": {
    "colab": {
      "name": "RamirezVillaverde-OscarLeonardo-PC2-P1.ipynb",
      "provenance": []
    },
    "kernelspec": {
      "name": "python3",
      "display_name": "Python 3"
    },
    "language_info": {
      "name": "python"
    }
  },
  "cells": [
    {
      "cell_type": "code",
      "execution_count": null,
      "metadata": {
        "id": "v1QC5ifRKOuE"
      },
      "outputs": [],
      "source": [
        "n= int(input(\"Ingrese la cantidad de notas: \"))\n",
        "a=[0]*n\n",
        "conta = 0\n",
        "for i in range(0,n):\n",
        "    a[i]= int(input(f\"Ingrese las notas: \"))\n",
        "    if a[i] >=10 and a[i]<20:\n",
        "        conta= conta + 1\n",
        "aprobados = (conta * 100) / n\n",
        "print(a) , print(str(round(aprobados,2)) +\" % de notas aprobadas\")\n",
        "conta = 0\n",
        "while aprobados < 70:\n",
        "    for i in range(0,n):\n",
        "        if a[i] < 20:\n",
        "            a[i]= a[i]+1\n",
        "        if a[i] >= 10 and a[i] < 20:\n",
        "            conta += 1\n",
        "    aprobados = (conta * 100) / n\n",
        "    print(a)\n",
        "    print(str(round(aprobados,2)) +\" % de notas aprobadas\")\n",
        "    conta = 0\n",
        "final = round(aprobados,2)\n",
        "print(f\"Porcentaje final de aprobados: {final}%\")\n",
        "\n"
      ]
    }
  ]
}