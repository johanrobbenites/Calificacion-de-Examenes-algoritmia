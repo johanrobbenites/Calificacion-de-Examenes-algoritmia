{
  "nbformat": 4,
  "nbformat_minor": 0,
  "metadata": {
    "colab": {
      "name": "RamirezVillaverde-OscarLeonardo-PC2-P2.ipynb",
      "provenance": []
    },
    "kernelspec": {
      "name": "python3",
      "display_name": "Python 3"
    },
    "language_info": {
      "name": "python"
    }
  },
  "cells": [
    {
      "cell_type": "code",
      "execution_count": null,
      "metadata": {
        "id": "PbKnVVa6Ra8o"
      },
      "outputs": [],
      "source": [
        "a = []\n",
        "for empleado in range(4):\n",
        "  a.append([0]*3)\n",
        "print(a)\n",
        "codigoe = -1\n",
        "\n",
        "while codigoe != 0:\n",
        "  codigop = int(input(\"Ingrese el código del producto: \"))\n",
        "  while codigop < 1 or codigop > 3:\n",
        "    print(\"OPERACIÓN FALLIDA\")\n",
        "    codigop = int(input(\"Ingrese el código del producto: \"))\n",
        "  cantidad = int(input(\"Ingrese la cantidad de productos vendidos: \"))\n",
        "  if codigoe >= 1 and codigoe <= 4:\n",
        "    a[codigoe - 1][codigop - 1]=a[codigoe - 1][codigop - 1]+cantidad\n",
        "  codigoe = int(input(\"Ingrese código del empleado: \"))\n",
        "\n",
        "for i in range(4):\n",
        "  print(f\"Empleado {i+1}\")\n",
        "  for j in range(3):\n",
        "    print(f\"Ventas de producto {j+1}: {a[i][j]}\")"
      ]
    }
  ]
}