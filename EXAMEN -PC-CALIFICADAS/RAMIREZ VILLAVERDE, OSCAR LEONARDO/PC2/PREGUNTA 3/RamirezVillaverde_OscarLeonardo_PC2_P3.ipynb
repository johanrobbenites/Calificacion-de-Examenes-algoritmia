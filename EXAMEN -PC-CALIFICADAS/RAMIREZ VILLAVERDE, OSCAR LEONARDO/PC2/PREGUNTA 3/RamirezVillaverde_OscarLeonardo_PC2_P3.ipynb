{
  "nbformat": 4,
  "nbformat_minor": 0,
  "metadata": {
    "colab": {
      "name": "RamirezVillaverde-OscarLeonardo-PC2-P3.ipynb",
      "provenance": []
    },
    "kernelspec": {
      "name": "python3",
      "display_name": "Python 3"
    },
    "language_info": {
      "name": "python"
    }
  },
  "cells": [
    {
      "cell_type": "code",
      "execution_count": null,
      "metadata": {
        "id": "iwGiUYvraWgD"
      },
      "outputs": [],
      "source": [
        "base = int(input(\"Ingrese la base de los números: \"))\n",
        "a = []\n",
        "n1 = int(input(\"Ingrese cantidad de dígitos del primer número: \"))\n",
        "for i in range(n1):\n",
        "  digitoa = int(input(\"Ingrese los dígitos: \"))\n",
        "  while digitoa >= base:\n",
        "    print(\"ERROR!!\")\n",
        "    digitoa = int(input(\"Ingrese los dígitos: \"))\n",
        "  a.append(digitoa)\n",
        "b = []\n",
        "n2 = int(input(\"Ingrese cantidad de dígitos del segundo número: \"))\n",
        "for j in range(n2):\n",
        "  digitob = int(input(\"Ingrese los dígitos: \"))\n",
        "  while digitob >= base:\n",
        "    print(\"ERROR!!\")\n",
        "    digitob = int(input(\"Ingrese los dígitos: \"))\n",
        "  b.append(digitob)\n",
        "print(a)\n",
        "print(b)\n",
        "producto = []\n",
        "contp = 1\n",
        "for y in b:\n",
        "    for x in a:\n",
        "        producto.append(x*y)\n",
        "        contp = contp + 1\n",
        "for m in range(contp):\n",
        "  while ((x*y)/base) > 0:\n",
        "    producto[m] = producto[m]+((x*y/base)\n",
        "    producto.append(m)\n",
        "print(producto)"
      ]
    }
  ]
}