{
  "nbformat": 4,
  "nbformat_minor": 0,
  "metadata": {
    "colab": {
      "name": "RamirezVillaverde-OscarLeonardo-PC3-P3.ipynb",
      "provenance": []
    },
    "kernelspec": {
      "name": "python3",
      "display_name": "Python 3"
    },
    "language_info": {
      "name": "python"
    }
  },
  "cells": [
    {
      "cell_type": "code",
      "execution_count": null,
      "metadata": {
        "id": "4YaLysjEmDzt"
      },
      "outputs": [],
      "source": [
        "def conjunto(a,b):\n",
        "  conjuntoa = set(a)\n",
        "  conjuntob = set(b)\n",
        "  print(f\"A = {conjuntoa}\")\n",
        "  print(f\"B = {conjuntob}\")\n",
        "  union = conjuntoa | conjuntob\n",
        "  ubeta = list(union)\n",
        "  ubeta.sort()\n",
        "  unionfinal = set(ubeta)\n",
        "  interseccion = conjuntoa & conjuntob\n",
        "  print(f\"UNIÓN = {unionfinal}\")\n",
        "  print(f\"INTERSECCIÓN = {interseccion}\")\n",
        "  return \"OPERACIÓN EXITOSA!!\"\n",
        "a = []\n",
        "b = []\n",
        "n1 = int(input(\"Ingrese elementos del conjunto A: \"))\n",
        "for i in range(n1):\n",
        "  elementoa = int(input(\"Ingrese elemento: \"))\n",
        "  a.append(elementoa)\n",
        "  a.sort()\n",
        "n2 = int(input(\"Ingrese elementos del conjunto B: \"))\n",
        "for i in range(n2):\n",
        "  elementob = int(input(\"Ingrese elemento: \"))\n",
        "  b.append(elementob)\n",
        "  b.sort()\n",
        "print(conjunto(a,b))"
      ]
    }
  ]
}