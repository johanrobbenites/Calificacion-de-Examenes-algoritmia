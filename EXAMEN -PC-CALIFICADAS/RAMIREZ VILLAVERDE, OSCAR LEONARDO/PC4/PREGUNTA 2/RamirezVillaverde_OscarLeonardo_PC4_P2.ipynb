{
  "nbformat": 4,
  "nbformat_minor": 0,
  "metadata": {
    "colab": {
      "name": "RamirezVillaverde-OscarLeonardo-PC4-P2.ipynb",
      "provenance": []
    },
    "kernelspec": {
      "name": "python3",
      "display_name": "Python 3"
    },
    "language_info": {
      "name": "python"
    }
  },
  "cells": [
    {
      "cell_type": "code",
      "execution_count": 1,
      "metadata": {
        "colab": {
          "base_uri": "https://localhost:8080/"
        },
        "id": "c0W9fu-xugex",
        "outputId": "d1a7777e-fe59-4ffa-8d13-12e89c1d7d63"
      },
      "outputs": [
        {
          "output_type": "stream",
          "name": "stdout",
          "text": [
            "Mounted at /content/drive/\n"
          ]
        }
      ],
      "source": [
        "from google.colab import drive\n",
        "drive.mount(\"/content/drive/\")"
      ]
    },
    {
      "cell_type": "code",
      "source": [
        "f = open(\"Alumnos.txt\",\"w\")\n",
        "n = int(input(\"Valor de n: \"))\n",
        "for i in range(n):\n",
        "  cod = int(input(\"Código: \"))\n",
        "  curso = input(\"Curso: \")\n",
        "  nota = float(input(\"Nota: \"))\n",
        "  linea = str(cod)+\",\"+str(curso)+\",\"+str(nota)+\"\\n\"\n",
        "  f.write(linea)\n",
        "f.close()"
      ],
      "metadata": {
        "id": "BBV0T7JFvVlc"
      },
      "execution_count": null,
      "outputs": []
    },
    {
      "cell_type": "code",
      "source": [
        "f = open(\"Alumnos.txt\", \"r\")\n",
        "dato = f.readlines()\n",
        "print(dato)"
      ],
      "metadata": {
        "id": "h89ATf1U1Eof"
      },
      "execution_count": null,
      "outputs": []
    }
  ]
}