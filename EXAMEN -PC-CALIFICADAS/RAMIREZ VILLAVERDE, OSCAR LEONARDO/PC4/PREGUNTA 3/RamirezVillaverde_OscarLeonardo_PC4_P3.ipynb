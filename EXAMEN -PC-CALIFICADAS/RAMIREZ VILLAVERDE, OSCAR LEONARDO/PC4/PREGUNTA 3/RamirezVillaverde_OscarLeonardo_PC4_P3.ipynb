{
  "nbformat": 4,
  "nbformat_minor": 0,
  "metadata": {
    "colab": {
      "name": "RamirezVillaverde-OscarLeonardo-PC4-P3.ipynb",
      "provenance": []
    },
    "kernelspec": {
      "name": "python3",
      "display_name": "Python 3"
    },
    "language_info": {
      "name": "python"
    }
  },
  "cells": [
    {
      "cell_type": "code",
      "execution_count": null,
      "metadata": {
        "id": "QQ32wcFv3wC9"
      },
      "outputs": [],
      "source": [
        "n = int(input(\"Ingrese el valor de n: \"))\n",
        "a = []\n",
        "for i in range(n):\n",
        "  num = int(input(f\"Ingrese el dato {i+1}: \"))\n",
        "  a.append(num)\n",
        "def identificacion(a, indice = 0):\n",
        "  if indice != len(a):\n",
        "    print(a[indice])\n",
        "    identificacion(a, indice + 1)\n",
        "def busqueda():\n",
        "  numero = int(input(\"Ingrese número a identificar: \"))\n",
        "  if numero in a:\n",
        "    print(a.index(numero)+1)\n",
        "  else:\n",
        "    print(-1)\n",
        "identificacion(a)\n",
        "print(f\"Posición de número: {busqueda()}\")"
      ]
    }
  ]
}