{
  "nbformat": 4,
  "nbformat_minor": 0,
  "metadata": {
    "colab": {
      "name": "Ramos Roman -Cristian Armando -EF - p3 .ipynb",
      "provenance": [],
      "collapsed_sections": []
    },
    "kernelspec": {
      "name": "python3",
      "display_name": "Python 3"
    },
    "language_info": {
      "name": "python"
    }
  },
  "cells": [
    {
      "cell_type": "code",
      "execution_count": 1,
      "metadata": {
        "colab": {
          "base_uri": "https://localhost:8080/"
        },
        "id": "6XYMkxZx7ens",
        "outputId": "13dcb0eb-0470-4b6a-a664-ef8184dd8447"
      },
      "outputs": [
        {
          "output_type": "stream",
          "name": "stdout",
          "text": [
            "ingrese la cadena :YO HAGO YOGA  HOY\n",
            "yohagoyogahoy\n",
            "Es palindromo\n"
          ]
        }
      ],
      "source": [
        "cad = input(\"ingrese la cadena :\")\n",
        "def palindromo(frase):\n",
        "  frase = frase.lower()\n",
        "  frase = frase.replace(' ','')\n",
        "  longitud = len(frase)\n",
        "  if longitud <1:\n",
        "    return True\n",
        "  else:\n",
        "    if frase[0]==frase[-1]:\n",
        "      return palindromo(frase[1:-1])\n",
        "    else :\n",
        "      return False\n",
        "s = palindromo(cad)\n",
        "if s == True :\n",
        "  cad = cad.lower()\n",
        "  cad = cad.replace(' ','')\n",
        "  print(cad)\n",
        "  print(\"Es palindromo\")\n",
        "else :\n",
        "  cad = cad.lower()\n",
        "  cad = cad.replace(' ','')\n",
        "  print(cad)\n",
        "  print(\"No es palindromo\")\n",
        "\n",
        "\n"
      ]
    }
  ]
}