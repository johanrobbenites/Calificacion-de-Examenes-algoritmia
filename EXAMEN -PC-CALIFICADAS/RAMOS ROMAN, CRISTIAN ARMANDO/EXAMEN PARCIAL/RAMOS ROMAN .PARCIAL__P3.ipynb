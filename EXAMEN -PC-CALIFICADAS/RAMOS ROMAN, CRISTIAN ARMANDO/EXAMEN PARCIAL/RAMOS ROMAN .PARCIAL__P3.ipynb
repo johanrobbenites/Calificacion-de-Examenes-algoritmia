{
  "nbformat": 4,
  "nbformat_minor": 0,
  "metadata": {
    "colab": {
      "name": "PARCIAL__P3.ipynb",
      "provenance": []
    },
    "kernelspec": {
      "name": "python3",
      "display_name": "Python 3"
    },
    "language_info": {
      "name": "python"
    }
  },
  "cells": [
    {
      "cell_type": "code",
      "execution_count": 13,
      "metadata": {
        "colab": {
          "base_uri": "https://localhost:8080/"
        },
        "id": "LgydH22bcKbI",
        "outputId": "6dc55342-8dfa-4673-9cf6-88c726ca9723"
      },
      "outputs": [
        {
          "output_type": "stream",
          "name": "stdout",
          "text": [
            "2 5 7 \n",
            "4 3 9 \n",
            "-----------------\n",
            "4 2 \n",
            "3 5 \n",
            "9 7 \n",
            "------------------------\n",
            "9 3 4 \n",
            "7 5 2 \n",
            "------------------------\n",
            "7 9 \n",
            "5 3 \n",
            "2 4 \n",
            "------------------------\n",
            "2 5 7 \n",
            "4 3 9 \n"
          ]
        }
      ],
      "source": [
        "mat = [\n",
        "       [2,5,7],\n",
        "       [4,3,9],\n",
        "       ]\n",
        "def girar(matriz):\n",
        "   gira=[]\n",
        "   for i in range(len(matriz[0])) :\n",
        "     gira.append([])\n",
        "     for j in range(len(matriz)):\n",
        "         gira[i].append(matriz[len(matriz)-1-j][i])\n",
        "   return  gira\n",
        "for f in mat:\n",
        "  for i in f :\n",
        "    print(i,end =\" \")\n",
        "  print() \n",
        "\n",
        "print(\"-----------------\")\n",
        "gira_1 = girar(mat) \n",
        "for f in gira_1 :\n",
        "  for i in f :\n",
        "    print(i,end =\" \")\n",
        "  print() \n",
        "\n",
        "print(\"------------------------\") \n",
        "gira_2=girar(gira_1)\n",
        "for f in gira_2 :\n",
        "  for i in f :\n",
        "    print(i,end =\" \")\n",
        "  print() \n",
        "\n",
        "print(\"------------------------\") \n",
        "gira_3=girar(gira_2)\n",
        "for f in gira_3 :\n",
        "  for i in f :\n",
        "    print(i,end =\" \")\n",
        "  print() \n",
        "\n",
        "print(\"------------------------\") \n",
        "gira_4=girar(gira_3)\n",
        "for f in gira_4 :\n",
        "  for i in f :\n",
        "    print(i,end =\" \")\n",
        "  print() \n"
      ]
    }
  ]
}