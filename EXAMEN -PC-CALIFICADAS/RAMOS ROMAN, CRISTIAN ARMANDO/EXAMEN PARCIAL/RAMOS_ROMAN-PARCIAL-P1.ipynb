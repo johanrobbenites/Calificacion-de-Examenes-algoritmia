{
  "nbformat": 4,
  "nbformat_minor": 0,
  "metadata": {
    "colab": {
      "name": "P1_PARCIAL_RAMOS.ipynb",
      "provenance": [],
      "collapsed_sections": []
    },
    "kernelspec": {
      "name": "python3",
      "display_name": "Python 3"
    },
    "language_info": {
      "name": "python"
    }
  },
  "cells": [
    {
      "cell_type": "code",
      "execution_count": 14,
      "metadata": {
        "colab": {
          "base_uri": "https://localhost:8080/"
        },
        "id": "Q8AgNa51DOGe",
        "outputId": "c5057b59-4b53-440f-9e27-65b45ef920be"
      },
      "outputs": [
        {
          "output_type": "stream",
          "name": "stdout",
          "text": [
            "ingrese el numero de estudiantes :2\n",
            "ingrese el codigo del estudiante :12\n",
            "ingrese el peso del estudiante: 60\n",
            "ingrese la talla del estudiante :1.67\n",
            "ingrese el codigo del estudiante :15\n",
            "ingrese el peso del estudiante: 68\n",
            "ingrese la talla del estudiante :1.72\n",
            "los codigos son : [12, 15]\n",
            "los pesos son : [60.0, 68.0]\n",
            "las tallas son : [1.67, 1.72]\n",
            "----------un nuevo estudiante------\n",
            "ingrese el codigo: 18\n",
            "los codigos ahora son : [18, 12, 15]\n",
            "ingrese el peso : 69\n",
            "los pesos ahora son : [69.0, 60.0, 68.0]\n",
            "ingrese la talla : 1.69\n",
            "las tallas ahora son : [1.69, 1.67, 1.72]\n",
            "-------ordenando los pesos en forma descendente------\n",
            "3\n",
            "los pesos ordenados : [69.0, 68.0, 60.0]\n"
          ]
        }
      ],
      "source": [
        "n = int(input(\"ingrese el numero de estudiantes :\"))\n",
        "cdg=list()\n",
        "ps=list()\n",
        "tl=list()\n",
        "pe = list()\n",
        "if (n <=30):\n",
        "  for i in range(n):\n",
        "    cod= int(input(\"ingrese el codigo del estudiante :\" ))\n",
        "    if (cod > 9 and cod <100):\n",
        "       p = float(input(\"ingrese el peso del estudiante: \"))\n",
        "       if (p>50):\n",
        "         t = float(input(\"ingrese la talla del estudiante :\"))\n",
        "    cdg.append(cod)\n",
        "    ps.append(p)\n",
        "    tl.append(t)\n",
        "print(\"los codigos son :\",cdg)\n",
        "print(\"los pesos son :\",ps)\n",
        "print(\"las tallas son :\",tl)\n",
        "print(\"----------un nuevo estudiante------\")\n",
        "if(n>0):\n",
        "  cod=int(input(\"ingrese el codigo: \"))\n",
        "  pos = 1\n",
        "  k = len(cdg)+1\n",
        "  cdg.append(0)\n",
        "  while (k>=pos):\n",
        "    cdg[k-1]=cdg[k-2]\n",
        "    k = k-1\n",
        "if(cod > 9 and cod<100):\n",
        "  cdg[k] = cod\n",
        "print(\"los codigos ahora son :\",cdg) \n",
        "if(cod > 9 and cod <100):\n",
        "  p=float(input(\"ingrese el peso : \"))\n",
        "  pos = 1\n",
        "  k1 = len(ps)+1\n",
        "  ps.append(0)\n",
        "  while (k1>=pos):\n",
        "    ps[k1-1]=ps[k1-2]\n",
        "    k1 = k1-1\n",
        "if(p>50):\n",
        "   ps[k1] = p\n",
        "print(\"los pesos ahora son :\",ps) \n",
        "if(cod >9 and cod <100):\n",
        "  t=float(input(\"ingrese la talla : \"))\n",
        "  pos = 1\n",
        "  k2 = len(tl)+1\n",
        "  tl.append(0)\n",
        "  while (k2>=pos):\n",
        "    tl[k2-1]=tl[k2-2]\n",
        "    k2 = k2-1\n",
        "if(t<3):\n",
        "  tl[k1] = t\n",
        "print(\"las tallas ahora son :\",tl) \n",
        "print(\"-------ordenando los pesos en forma descendente------\")\n",
        "pe = ps\n",
        "k3 = len(pe)\n",
        "for i in range(0,k3):\n",
        "  for j in range(i+1,k3):\n",
        "     if (pe[i] < pe[j]):\n",
        "         x = pe[i]\n",
        "         pe[i]=pe[j]\n",
        "         pe[j]=x\n",
        "print(\"los pesos ordenados :\",pe)\n",
        "\n"
      ]
    }
  ]
}