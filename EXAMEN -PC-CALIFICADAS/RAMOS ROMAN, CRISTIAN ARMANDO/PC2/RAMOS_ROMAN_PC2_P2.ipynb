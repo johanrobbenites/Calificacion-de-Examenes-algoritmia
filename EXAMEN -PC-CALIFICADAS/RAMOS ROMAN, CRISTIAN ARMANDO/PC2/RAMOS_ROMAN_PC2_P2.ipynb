{
  "cells": [
    {
      "cell_type": "code",
      "execution_count": null,
      "metadata": {
        "colab": {
          "base_uri": "https://localhost:8080/"
        },
        "id": "YVbnzVKF7wRR",
        "outputId": "a54870b5-e194-4658-f259-029a67cdce38"
      },
      "outputs": [
        {
          "output_type": "stream",
          "name": "stdout",
          "text": [
            "[[0, 0, 0], [0, 0, 0], [0, 0, 0], [0, 0, 0]]\n",
            "ingrese el codigo del producto:2\n",
            "ingrese la cantidad:1\n",
            "ingrese el codigo del empleado:2\n",
            "ingrese el codigo del producto:2\n",
            "ingrese la cantidad:2\n",
            "ingrese el codigo del empleado:1\n",
            "ingrese el codigo del producto:3\n",
            "ingrese la cantidad:4\n",
            "ingrese el codigo del empleado:2\n",
            "ingrese el codigo del producto:3\n",
            "ingrese la cantidad:5\n",
            "ingrese el codigo del empleado:0\n",
            "Empleado1\n",
            "venta de productos 1 :0\n",
            "venta de productos 2 :0\n",
            "venta de productos 3 :4\n",
            "Empleado2\n",
            "venta de productos 1 :0\n",
            "venta de productos 2 :2\n",
            "venta de productos 3 :5\n",
            "Empleado3\n",
            "venta de productos 1 :0\n",
            "venta de productos 2 :0\n",
            "venta de productos 3 :0\n",
            "Empleado4\n",
            "venta de productos 1 :0\n",
            "venta de productos 2 :0\n",
            "venta de productos 3 :0\n"
          ]
        }
      ],
      "source": [
        "a = []\n",
        "for empleado in range (4):\n",
        "  a.append([0]*3)\n",
        "print(a)\n",
        "code = -1\n",
        "while (code!=0):\n",
        "  codp = int(input(\"ingrese el codigo del producto:\"))\n",
        "  cant = int (input(\"ingrese la cantidad:\"))\n",
        "  if ((code >= 1 and code <=4) and (codp>=1 and codp<=3) and cant>0 ):\n",
        "     a[code-1][codp-1]=a[code-1][codp-1]+ cant\n",
        "  code = int(input(\"ingrese el codigo del empleado:\"))\n",
        "for i in range(4):\n",
        "  print(f\"Empleado{i+1}\")\n",
        "  for j in range(3):\n",
        "     print(f\"venta de productos {j+1} :{a[i][j]}\")\n",
        "\n",
        "                                         \n",
        "\n"
      ]
    }
  ],
  "metadata": {
    "colab": {
      "collapsed_sections": [],
      "name": "RAMOS-PC2-P2.ipynb",
      "provenance": []
    },
    "kernelspec": {
      "display_name": "Python 3",
      "name": "python3"
    },
    "language_info": {
      "name": "python"
    }
  },
  "nbformat": 4,
  "nbformat_minor": 0
}