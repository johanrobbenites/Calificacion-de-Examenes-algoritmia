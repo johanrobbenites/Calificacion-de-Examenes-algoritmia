{
  "nbformat": 4,
  "nbformat_minor": 0,
  "metadata": {
    "colab": {
      "name": "RAMOS -PC2-P3.ipynb",
      "provenance": [],
      "collapsed_sections": []
    },
    "kernelspec": {
      "name": "python3",
      "display_name": "Python 3"
    },
    "language_info": {
      "name": "python"
    }
  },
  "cells": [
    {
      "cell_type": "code",
      "execution_count": null,
      "metadata": {
        "colab": {
          "base_uri": "https://localhost:8080/"
        },
        "id": "Fl1UcE41mH7H",
        "outputId": "54df7825-01b4-4884-bef2-30edd1cfc0e2"
      },
      "outputs": [
        {
          "output_type": "stream",
          "name": "stdout",
          "text": [
            "ingrese la base :6\n",
            "cantidad de digito del numero del num1 :5\n",
            "cantidad de digito del numero del num2 :4\n",
            "ingrese los digitos :5\n",
            "ingrese los digitos :3\n",
            "ingrese los digitos :0\n",
            "ingrese los digitos :4\n",
            "ingrese los digitos :1\n",
            "digitos del primer numero en base 6 :  [5, 3, 0, 4, 1]\n",
            "ingrese los digitos :2\n",
            "ingrese los digitos :4\n",
            "ingrese los digitos :1\n",
            "ingrese los digitos :5\n",
            "digitos del segundo numero en base  6 :  [2, 4, 1, 5]\n",
            "[2, 2, 5, 5, 5, 4, 5, 3, 5]\n"
          ]
        }
      ],
      "source": [
        "base = int(input(\"ingrese la base :\"))\n",
        "n1 = int(input(\"cantidad de digito del numero del num1 :\"))\n",
        "n2 = int(input(\"cantidad de digito del numero del num2 :\"))\n",
        "limite = n1 + n2\n",
        "num1 = list()\n",
        "num2 = list()\n",
        "c = list()\n",
        "d = list()\n",
        "for i in range(n1):\n",
        " x = int(input(\"ingrese los digitos :\"))\n",
        " num1.append(x)\n",
        "print(\"digitos del primer numero en base\",base,\": \",num1)\n",
        "for j in range(n2):\n",
        " y = int(input(\"ingrese los digitos :\"))\n",
        " num2.append(y)\n",
        "print(\"digitos del segundo numero en base \",base,\": \",num2)\n",
        "cociente = 0\n",
        "a=0\n",
        "b=0\n",
        "x= n1\n",
        "y= n2\n",
        "z= limite\n",
        "w = 1 \n",
        "for i in range(limite):\n",
        "  c.append(0)\n",
        "for i in range(limite):\n",
        "  d.append(0)\n",
        "for i in range(n2):\n",
        " for i in range(n1):\n",
        "   c[z-1]=(num1[x-1]*num2[y-1]+cociente)%base\n",
        "   cociente=(num1[x-1]*num2[y-1]+cociente)//base\n",
        "   x=x-1\n",
        "   z=z-1\n",
        "   if x==0:\n",
        "     c[z-1]=cociente\n",
        " z=limite\n",
        " cociente = 0\n",
        " x=n1\n",
        " for i in range(limite):\n",
        "   a =(d[z-1]+c[z-1]+ b) // base\n",
        "   d[z-1]=(d[z-1]+c[z-1]+b) % base\n",
        "   b=a\n",
        "   z=z-1\n",
        " y=y-1\n",
        " cociente=0\n",
        " z=limite-w\n",
        " w=w+1\n",
        " c=[0]*limite\n",
        "print(d)"
      ]
    },
    {
      "cell_type": "code",
      "source": [
        ""
      ],
      "metadata": {
        "id": "MyOUnbyMvF0b"
      },
      "execution_count": null,
      "outputs": []
    }
  ]
}