{
  "nbformat": 4,
  "nbformat_minor": 0,
  "metadata": {
    "colab": {
      "name": "Untitled3.ipynb",
      "provenance": []
    },
    "kernelspec": {
      "name": "python3",
      "display_name": "Python 3"
    },
    "language_info": {
      "name": "python"
    }
  },
  "cells": [
    {
      "cell_type": "code",
      "source": [
        "# Construye un progrmaa que reciba una oracion y determine si la oracion es un palindromo. Una oracion es\n",
        "#palindroma si al invertirla, sin considerar los espacios en banco y considerando todo en mayusculas o minusculas,\n",
        "#da la misma oracion.Debe utilizar una funcion recursiva para invertir la oracion sin espacios en blanco\n",
        "def quitar_espacios_en_blanco(s):\n",
        "  s2 = s.lower()\n",
        "def invertir_oracion(s):\n",
        "\tz = quitar_espacios_en_blanco\n",
        "\tif len(z) == 0:\n",
        "\t\treturn z \n",
        "oracion = input(\"Ingrese su oracion: \")\n",
        "print(\"La cadena original es: \",entrada)\n",
        "\n",
        "print(\"La oracion inversa usando recursion es: \",end=\"\")\n",
        "print(invertir_oracion(entrada))\n",
        "\n",
        "a1 = quitar_espacios_en_blanco(entrada)\n",
        "a2 = invertir_oracion(entrada)\n",
        "\n",
        "if a1 == a2:\n",
        "\tprint(\"La oracion es, en efecto, palindroma\")\n",
        " else:\n",
        "\tprint(\"La oracion NO es palindroma\")\n"
      ],
      "metadata": {
        "colab": {
          "base_uri": "https://localhost:8080/",
          "height": 130
        },
        "id": "Ghot7xuSBylh",
        "outputId": "349ade9b-7015-4d96-c1af-0c6365ed1e44"
      },
      "execution_count": 14,
      "outputs": [
        {
          "output_type": "error",
          "ename": "IndentationError",
          "evalue": "ignored",
          "traceback": [
            "\u001b[0;36m  File \u001b[0;32m\"<ipython-input-14-94b5b7238502>\"\u001b[0;36m, line \u001b[0;32m10\u001b[0m\n\u001b[0;31m    else:\u001b[0m\n\u001b[0m         ^\u001b[0m\n\u001b[0;31mIndentationError\u001b[0m\u001b[0;31m:\u001b[0m unindent does not match any outer indentation level\n"
          ]
        }
      ]
    }
  ]
}