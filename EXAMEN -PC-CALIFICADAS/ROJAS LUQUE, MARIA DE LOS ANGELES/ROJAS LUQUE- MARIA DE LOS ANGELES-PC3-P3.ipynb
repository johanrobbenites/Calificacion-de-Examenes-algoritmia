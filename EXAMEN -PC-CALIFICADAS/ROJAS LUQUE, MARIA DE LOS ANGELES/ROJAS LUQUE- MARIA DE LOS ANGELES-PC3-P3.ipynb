{
  "nbformat": 4,
  "nbformat_minor": 0,
  "metadata": {
    "colab": {
      "name": "PC3.ipynb",
      "provenance": []
    },
    "kernelspec": {
      "name": "python3",
      "display_name": "Python 3"
    },
    "language_info": {
      "name": "python"
    }
  },
  "cells": [
    {
      "cell_type": "code",
      "source": [
        "#Crear una funcion que permita recibir en dos cadenas los conjuntos de valores enteros A y B,\n",
        "#luego en otras dos cadenas devuelva la union e interseccion de dichos conjuntos.\n",
        "union = []\n",
        "interseccion = []\n",
        "conjA = int(input(\"Ingrese la cantidad de elementos: \"))\n",
        "m = [0]*conjA\n",
        "for i in range(conjA):\n",
        "  m[i] = int(input(\"Ingrese los datos: \"))\n",
        "print(\"Conjunto A: \")\n",
        "print(set(m))\n",
        "\n",
        "conjB = int(input(\"Ingrese la cantidad de elementos: \"))\n",
        "n = [0]*conjB\n",
        "for i in range(conjB):\n",
        "  n[i] = int(input(\"Ingrese los datos: \"))\n",
        "print(\"Conjunto B: \")\n",
        "print(set(n))\n",
        "\n",
        "def union(x,y):\n",
        "  lista_union = sorted(x + y)\n",
        "  return lista_union\n",
        "print(\"Union = \", set(union(m,n)))\n",
        "\n",
        "for element in n:\n",
        "  if element in m:\n",
        "    interseccion.append(element)\n",
        "print(\"Interseccion = \", set(interseccion))"
      ],
      "metadata": {
        "colab": {
          "base_uri": "https://localhost:8080/"
        },
        "outputId": "9bb8dc24-0e61-4d3f-80e0-22dd77a63d0c",
        "id": "G5iw9Nmc0ufY"
      },
      "execution_count": 36,
      "outputs": [
        {
          "output_type": "stream",
          "name": "stdout",
          "text": [
            "Ingrese la cantidad de elementos: 5\n",
            "Ingrese los datos: -41\n",
            "Ingrese los datos: -1\n",
            "Ingrese los datos: 0\n",
            "Ingrese los datos: 1\n",
            "Ingrese los datos: 123\n",
            "Conjunto A: \n",
            "{0, 1, -41, 123, -1}\n",
            "Ingrese la cantidad de elementos: 4\n",
            "Ingrese los datos: -3\n",
            "Ingrese los datos: -2\n",
            "Ingrese los datos: 1\n",
            "Ingrese los datos: 2\n",
            "Conjunto B: \n",
            "{1, 2, -3, -2}\n",
            "Union =  {0, 1, 2, -2, -41, 123, -3, -1}\n",
            "Interseccion =  {1}\n"
          ]
        }
      ]
    }
  ]
}