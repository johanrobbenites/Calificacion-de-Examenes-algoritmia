{
  "nbformat": 4,
  "nbformat_minor": 0,
  "metadata": {
    "colab": {
      "name": "ROJAS LUQUE-MARIA DE LOS ANGELES- PC4- P2.ipynb",
      "provenance": [],
      "collapsed_sections": []
    },
    "kernelspec": {
      "name": "python3",
      "display_name": "Python 3"
    },
    "language_info": {
      "name": "python"
    }
  },
  "cells": [
    {
      "cell_type": "code",
      "execution_count": 8,
      "metadata": {
        "colab": {
          "base_uri": "https://localhost:8080/"
        },
        "id": "8Z8i4M112zCh",
        "outputId": "4f023013-cca6-4f48-fb0c-e0ab436f9a58"
      },
      "outputs": [
        {
          "name": "stdout",
          "output_type": "stream",
          "text": [
            "Cuantos registros: 3\n",
            "Ingrese nombre: sayeli\n",
            "Ingrese nombre: josely\n",
            "Ingrese nombre: ronaldo\n"
          ]
        }
      ],
      "source": [
        "arch = open('nombres.txt','w')\n",
        "n = int(input('Cuantos registros: '))\n",
        "for i in range(n):\n",
        "  nom = input('Ingrese nombre: ')\n",
        "  nom = nom+ '\\n'\n",
        "  arch.write(nom)\n",
        "arch.close()\n"
      ]
    }
  ]
}