{
  "nbformat": 4,
  "nbformat_minor": 0,
  "metadata": {
    "colab": {
      "name": "ROJAS LUQUE- MARIA- PC4- P3.ipynb",
      "provenance": []
    },
    "kernelspec": {
      "name": "python3",
      "display_name": "Python 3"
    },
    "language_info": {
      "name": "python"
    }
  },
  "cells": [
    {
      "cell_type": "code",
      "execution_count": 1,
      "metadata": {
        "colab": {
          "base_uri": "https://localhost:8080/"
        },
        "id": "_jVbhRL68t1l",
        "outputId": "9a0b916d-afc5-4516-c575-41dbd3186d66"
      },
      "outputs": [
        {
          "name": "stdout",
          "output_type": "stream",
          "text": [
            " Ingrese el numero de alumnos: 2\n",
            "Ingrese el nombre del alumno numero 1: maria\n",
            "Ingrese el nombre del alumno numero 2: jesus\n"
          ]
        }
      ],
      "source": [
        "n = int(input(\" Ingrese el numero de alumnos: \"))\n",
        "nombres = []\n",
        "for i in range(n):\n",
        "  nombre = input(\"Ingrese el nombre del alumno numero \"+str(i+1)+\": \")\n",
        "  nombres.append(nombre)"
      ]
    }
  ]
}