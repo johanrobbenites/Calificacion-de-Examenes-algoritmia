{
  "nbformat": 4,
  "nbformat_minor": 0,
  "metadata": {
    "colab": {
      "name": "SULLUCHUCO-EDGAR-PC4-P2.ipynb",
      "provenance": []
    },
    "kernelspec": {
      "name": "python3",
      "display_name": "Python 3"
    },
    "language_info": {
      "name": "python"
    }
  },
  "cells": [
    {
      "cell_type": "code",
      "execution_count": 3,
      "metadata": {
        "id": "LgiKcvrfh9Df"
      },
      "outputs": [],
      "source": [
        "f=open(\"ALUMNOS.TXT\",\"w\")\n",
        "f.write(\"111,CB101,06.8\\n\")\n",
        "f.write(\"222,CB101,11.0\\n\")\n",
        "f.write(\"333,CB101,18.5\\n\")\n",
        "f.write(\"444,CB101,09.8\\n\")\n",
        "f.write(\"555,CB101,16.8\\n\")\n",
        "f.write(\"111,SI205,06.8\\n\")\n",
        "f.write(\"222,SI205,11.0\\n\")\n",
        "f.write(\"333,SI205,18.5\\n\")\n",
        "f.write(\"444,SI205,09.8\\n\")\n",
        "f.write(\"555,SI205,06.8\\n\")\n",
        "f.write(\"111,ST221,06.8\\n\")\n",
        "f.write(\"222,ST221,01.0\\n\")\n",
        "f.write(\"333,ST221,02.5\\n\")\n",
        "f.write(\"444,ST221,07.8\\n\")\n",
        "f.write(\"555,ST221,16.8\\n\")\n",
        "f.close()"
      ]
    },
    {
      "cell_type": "code",
      "source": [
        "f=open(\"ALUMNOS.TXT\",\"r\")\n",
        "I1=[0,0]*len(f.readlines())\n",
        "f.seek(0)\n",
        "for line in f:\n",
        "  for l in f:\n",
        "    if ( line.split(\",\")[0]==l.split(\",\")[0] ):\n",
        "      if float(l.split(\",\")[2])>=10.0:\n",
        "        I1[f.readlines().index(line)][0]+=1\n",
        "      else:\n",
        "        I1[f.readlines().index(line)][1]+=1\n",
        "for line in f:\n",
        "  print(line.split(\",\")[0],\"\\tCursos Aprobados:\",I1[0],\"\\tCursos Desaprobados:\",I1[1])\n",
        "I2=[0]*len(f.readlines())\n",
        "f.seek(0)\n",
        "for line in f:\n",
        "  for l in f:\n",
        "    if ( line.split(\",\")[1]==l.split(\",\")[1] ):\n",
        "      if float(l.split(\",\")[2])<10.0:\n",
        "        I2[line][0]+=1\n",
        "for i in range(len(f.readlines())):\n",
        "  if(i==0):\n",
        "    max=I2[i]\n",
        "  elif I2[i]>max:\n",
        "    max=I2[i]\n",
        "    a=i\n",
        "j=0\n",
        "for line in f:\n",
        "  j+=1\n",
        "  if j==a:\n",
        "    print(line.split(\",\")[1])\n",
        "f.close()"
      ],
      "metadata": {
        "colab": {
          "base_uri": "https://localhost:8080/",
          "height": 235
        },
        "id": "2Hz1FFBkw9Of",
        "outputId": "d1e72723-1b9e-4992-893b-a7c18cdd68dd"
      },
      "execution_count": 30,
      "outputs": [
        {
          "output_type": "error",
          "ename": "ValueError",
          "evalue": "ignored",
          "traceback": [
            "\u001b[0;31m---------------------------------------------------------------------------\u001b[0m",
            "\u001b[0;31mValueError\u001b[0m                                Traceback (most recent call last)",
            "\u001b[0;32m<ipython-input-30-5c193be21e9c>\u001b[0m in \u001b[0;36m<module>\u001b[0;34m()\u001b[0m\n\u001b[1;32m      8\u001b[0m         \u001b[0mI1\u001b[0m\u001b[0;34m[\u001b[0m\u001b[0mf\u001b[0m\u001b[0;34m.\u001b[0m\u001b[0mreadlines\u001b[0m\u001b[0;34m(\u001b[0m\u001b[0;34m)\u001b[0m\u001b[0;34m.\u001b[0m\u001b[0mindex\u001b[0m\u001b[0;34m(\u001b[0m\u001b[0mline\u001b[0m\u001b[0;34m)\u001b[0m\u001b[0;34m]\u001b[0m\u001b[0;34m[\u001b[0m\u001b[0;36m0\u001b[0m\u001b[0;34m]\u001b[0m\u001b[0;34m+=\u001b[0m\u001b[0;36m1\u001b[0m\u001b[0;34m\u001b[0m\u001b[0;34m\u001b[0m\u001b[0m\n\u001b[1;32m      9\u001b[0m       \u001b[0;32melse\u001b[0m\u001b[0;34m:\u001b[0m\u001b[0;34m\u001b[0m\u001b[0;34m\u001b[0m\u001b[0m\n\u001b[0;32m---> 10\u001b[0;31m         \u001b[0mI1\u001b[0m\u001b[0;34m[\u001b[0m\u001b[0mf\u001b[0m\u001b[0;34m.\u001b[0m\u001b[0mreadlines\u001b[0m\u001b[0;34m(\u001b[0m\u001b[0;34m)\u001b[0m\u001b[0;34m.\u001b[0m\u001b[0mindex\u001b[0m\u001b[0;34m(\u001b[0m\u001b[0mline\u001b[0m\u001b[0;34m)\u001b[0m\u001b[0;34m]\u001b[0m\u001b[0;34m[\u001b[0m\u001b[0;36m1\u001b[0m\u001b[0;34m]\u001b[0m\u001b[0;34m+=\u001b[0m\u001b[0;36m1\u001b[0m\u001b[0;34m\u001b[0m\u001b[0;34m\u001b[0m\u001b[0m\n\u001b[0m\u001b[1;32m     11\u001b[0m \u001b[0;32mfor\u001b[0m \u001b[0mline\u001b[0m \u001b[0;32min\u001b[0m \u001b[0mf\u001b[0m\u001b[0;34m:\u001b[0m\u001b[0;34m\u001b[0m\u001b[0;34m\u001b[0m\u001b[0m\n\u001b[1;32m     12\u001b[0m   \u001b[0mprint\u001b[0m\u001b[0;34m(\u001b[0m\u001b[0mline\u001b[0m\u001b[0;34m.\u001b[0m\u001b[0msplit\u001b[0m\u001b[0;34m(\u001b[0m\u001b[0;34m\",\"\u001b[0m\u001b[0;34m)\u001b[0m\u001b[0;34m[\u001b[0m\u001b[0;36m0\u001b[0m\u001b[0;34m]\u001b[0m\u001b[0;34m,\u001b[0m\u001b[0;34m\"\\tCursos Aprobados:\"\u001b[0m\u001b[0;34m,\u001b[0m\u001b[0mI1\u001b[0m\u001b[0;34m[\u001b[0m\u001b[0;36m0\u001b[0m\u001b[0;34m]\u001b[0m\u001b[0;34m,\u001b[0m\u001b[0;34m\"\\tCursos Desaprobados:\"\u001b[0m\u001b[0;34m,\u001b[0m\u001b[0mI1\u001b[0m\u001b[0;34m[\u001b[0m\u001b[0;36m1\u001b[0m\u001b[0;34m]\u001b[0m\u001b[0;34m)\u001b[0m\u001b[0;34m\u001b[0m\u001b[0;34m\u001b[0m\u001b[0m\n",
            "\u001b[0;31mValueError\u001b[0m: '111,CB101,06.8\\n' is not in list"
          ]
        }
      ]
    },
    {
      "cell_type": "code",
      "source": [
        "f=open(\"ALUMNOS.TXT\",\"r\")\n",
        "print(f.readlines())\n",
        "f.close()"
      ],
      "metadata": {
        "colab": {
          "base_uri": "https://localhost:8080/"
        },
        "id": "y42oWDXV1iNi",
        "outputId": "c899c6b8-f580-4f42-b256-7781dc6510c9"
      },
      "execution_count": 31,
      "outputs": [
        {
          "output_type": "stream",
          "name": "stdout",
          "text": [
            "['111,CB101,06.8\\n', '222,CB101,11.0\\n', '333,CB101,18.5\\n', '444,CB101,09.8\\n', '555,CB101,16.8\\n', '111,SI205,06.8\\n', '222,SI205,11.0\\n', '333,SI205,18.5\\n', '444,SI205,09.8\\n', '555,SI205,06.8\\n', '111,ST221,06.8\\n', '222,ST221,01.0\\n', '333,ST221,02.5\\n', '444,ST221,07.8\\n', '555,ST221,16.8\\n']\n"
          ]
        }
      ]
    }
  ]
}