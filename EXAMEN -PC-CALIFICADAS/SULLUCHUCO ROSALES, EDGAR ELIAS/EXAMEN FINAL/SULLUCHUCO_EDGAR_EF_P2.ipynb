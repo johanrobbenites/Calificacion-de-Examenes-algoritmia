{
  "nbformat": 4,
  "nbformat_minor": 0,
  "metadata": {
    "colab": {
      "name": "SULLUCHUCO-EDGAR-EF-P2.ipynb",
      "provenance": []
    },
    "kernelspec": {
      "name": "python3",
      "display_name": "Python 3"
    },
    "language_info": {
      "name": "python"
    }
  },
  "cells": [
    {
      "cell_type": "code",
      "execution_count": 13,
      "metadata": {
        "colab": {
          "base_uri": "https://localhost:8080/"
        },
        "id": "56sC_oahzBtc",
        "outputId": "6faf5f1d-bb6d-49dc-f42a-a13fe00a3fee"
      },
      "outputs": [
        {
          "name": "stdout",
          "output_type": "stream",
          "text": [
            "n: 11\n",
            "Ingrese una línea: 15023.7 Javier Ramirez\n",
            "Ingrese una línea: 42067.0 Julia Rios\n",
            "Ingrese una línea: 15023.7 Javier Ramirez\n",
            "Ingrese una línea: 18097.00 Luis Alvarez\n",
            "Ingrese una línea: 48749.40 Mariela Fajardo\n",
            "Ingrese una línea: 20527.50 Manuel Lopez\n",
            "Ingrese una línea: 70327.50 Melisa Paz\n",
            "Ingrese una línea: 15012.70 Julisa Pia\n",
            "Ingrese una línea: 45786.40 Hector Espinoza\n",
            "Ingrese una línea: 57862.60 Sofia Ramos\n",
            "Ingrese una línea: 67452.50 Fiorella Tapia\n"
          ]
        }
      ],
      "source": [
        "f=open(\"F.TXT\",\"w\")\n",
        "n=0\n",
        "while(n<=10):\n",
        "  n=int(input(\"n: \"))\n",
        "for i in range(n):\n",
        "  cadena=input(\"Ingrese una línea: \")+\"\\n\"\n",
        "  f.write(cadena)\n",
        "f.close()"
      ]
    },
    {
      "cell_type": "code",
      "source": [
        "try:\n",
        "  f=open(\"F.TXT\",\"r\")\n",
        "  v=f.readlines()\n",
        "  for j in range(len(v)):\n",
        "    for i in range(len(v)-1-j):\n",
        "      if float(v[i].split(\" \")[0])<float(v[i+1].split(\" \")[0]) :\n",
        "        aux=v[i]\n",
        "        v[i]=v[i+1]\n",
        "        v[i+1]=aux\n",
        "  print(\"MONTO\\tNOMBRE\\t\\tPUESTO\\tBONO\\tPORCENTAJE\\n\")\n",
        "  for k in range(len(v)):\n",
        "    monto=float(v[k].split(\" \")[0])\n",
        "    nomb=v[k].split(\" \")[1]+\" \"+v[k].split(\" \")[2]\n",
        "    if k==0:\n",
        "      puesto=k+1\n",
        "    else:\n",
        "      if float(v[k].split(\" \")[0])!=float(v[k-1].split(\" \")[0]):\n",
        "        puesto=k+1\n",
        "    if puesto<=5:\n",
        "      bono=(11-puesto)*monto/100\n",
        "      porcentaje=(11-puesto)\n",
        "    else:\n",
        "      bono=0\n",
        "      porcentaje=0\n",
        "    print(monto,nomb,\"\\t\\t\",puesto,\"\\t\",bono,\"\\t\",porcentaje,\"\\n\")\n",
        "except OSError:\n",
        "  print('cannot open', \"F.TXT\")"
      ],
      "metadata": {
        "colab": {
          "base_uri": "https://localhost:8080/"
        },
        "id": "xpnzSYKB0jJy",
        "outputId": "b9fc4113-864e-4657-cc56-229bc510eb30"
      },
      "execution_count": 21,
      "outputs": [
        {
          "output_type": "stream",
          "name": "stdout",
          "text": [
            "MONTO\tNOMBRE\t\tPUESTO\tBONO\tPORCENTAJE\n",
            "\n",
            "70327.5 Melisa Paz\n",
            " \t\t 1 \t 7032.75 \t 10 \n",
            "\n",
            "67452.5 Fiorella Tapia\n",
            " \t\t 2 \t 6070.725 \t 9 \n",
            "\n",
            "57862.6 Sofia Ramos\n",
            " \t\t 3 \t 4629.008 \t 8 \n",
            "\n",
            "48749.4 Mariela Fajardo\n",
            " \t\t 4 \t 3412.458 \t 7 \n",
            "\n",
            "45786.4 Hector Espinoza\n",
            " \t\t 5 \t 2747.184 \t 6 \n",
            "\n",
            "42067.0 Julia Rios\n",
            " \t\t 6 \t 0 \t 0 \n",
            "\n",
            "20527.5 Manuel Lopez\n",
            " \t\t 7 \t 0 \t 0 \n",
            "\n",
            "18097.0 Luis Alvarez\n",
            " \t\t 8 \t 0 \t 0 \n",
            "\n",
            "15023.7 Javier Ramirez\n",
            " \t\t 9 \t 0 \t 0 \n",
            "\n",
            "15023.7 Javier Ramirez\n",
            " \t\t 9 \t 0 \t 0 \n",
            "\n",
            "15012.7 Julisa Pia\n",
            " \t\t 11 \t 0 \t 0 \n",
            "\n"
          ]
        }
      ]
    }
  ]
}